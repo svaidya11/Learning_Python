{
 "cells": [
  {
   "cell_type": "markdown",
   "id": "85cd7a8c",
   "metadata": {},
   "source": [
    "## 1. Apply Function to Elements in a List"
   ]
  },
  {
   "cell_type": "markdown",
   "id": "361612be",
   "metadata": {},
   "source": [
    "### any: Check id Any Element of an Iterable is True"
   ]
  },
  {
   "cell_type": "code",
   "execution_count": 1,
   "id": "09d23d0b",
   "metadata": {},
   "outputs": [
    {
     "data": {
      "text/plain": [
       "True"
      ]
     },
     "execution_count": 1,
     "metadata": {},
     "output_type": "execute_result"
    }
   ],
   "source": [
    "# if you want to check if any element of an iterable  is True, use any.\n",
    "\n",
    "text = 'abcdeF'\n",
    "any(x for x in text if x.isupper())"
   ]
  },
  {
   "cell_type": "markdown",
   "id": "69bd3039",
   "metadata": {},
   "source": [
    "### all: Check if all Elemnents of an Interable Are Strings"
   ]
  },
  {
   "cell_type": "code",
   "execution_count": 2,
   "id": "6375a8e2",
   "metadata": {},
   "outputs": [
    {
     "data": {
      "text/plain": [
       "False"
      ]
     },
     "execution_count": 2,
     "metadata": {},
     "output_type": "execute_result"
    }
   ],
   "source": [
    "#for String\n",
    "list1 = ['a','b','f', 11, 45]\n",
    "all(isinstance(item, str)for item in list1)"
   ]
  },
  {
   "cell_type": "code",
   "execution_count": 3,
   "id": "25ee299a",
   "metadata": {},
   "outputs": [
    {
     "data": {
      "text/plain": [
       "True"
      ]
     },
     "execution_count": 3,
     "metadata": {},
     "output_type": "execute_result"
    }
   ],
   "source": [
    "#For Integer\n",
    "i = [0,1,2,7,8,4]\n",
    "all(isinstance(item, int) for item in i )"
   ]
  },
  {
   "cell_type": "markdown",
   "id": "155fcc9d",
   "metadata": {},
   "source": [
    "### filter: Get the Elements of an Iterable that a function Returns True"
   ]
  },
  {
   "cell_type": "code",
   "execution_count": 4,
   "id": "d99d8b03",
   "metadata": {},
   "outputs": [
    {
     "data": {
      "text/plain": [
       "['apple', 'banana']"
      ]
     },
     "execution_count": 4,
     "metadata": {},
     "output_type": "execute_result"
    }
   ],
   "source": [
    "# If you want to get the Elements of an iterable that a function return true , use Filter \n",
    "def get_fruit(val:str):\n",
    "    fruits = ['apple','orange','banana']\n",
    "    if val in fruits:\n",
    "        return True\n",
    "    else:\n",
    "        return False\n",
    "items =['chair','apple','water','table','banana']\n",
    "fruits = filter(get_fruit, items)\n",
    "list(fruits)"
   ]
  },
  {
   "cell_type": "code",
   "execution_count": null,
   "id": "9ddd6182",
   "metadata": {},
   "outputs": [],
   "source": []
  },
  {
   "cell_type": "code",
   "execution_count": 5,
   "id": "8bb97472",
   "metadata": {},
   "outputs": [
    {
     "data": {
      "text/plain": [
       "['apple', 'banana', 1, 2]"
      ]
     },
     "execution_count": 5,
     "metadata": {},
     "output_type": "execute_result"
    }
   ],
   "source": [
    "# we can use this function for any types\n",
    "def demo_func(val):\n",
    "    items = ['apple','orange','banana',1,2]\n",
    "    if val in items:\n",
    "        return True\n",
    "    else:\n",
    "        return False\n",
    "items2 =['chair','apple','water','table','banana',1,2,3,4,5]\n",
    "items = filter(demo_func, items2)\n",
    "list(items)"
   ]
  },
  {
   "cell_type": "markdown",
   "id": "60c6e46a",
   "metadata": {},
   "source": [
    "### map method: Apply a function to Each item of an Iterable"
   ]
  },
  {
   "cell_type": "code",
   "execution_count": 6,
   "id": "69693439",
   "metadata": {},
   "outputs": [
    {
     "data": {
      "text/plain": [
       "['1', '2', '3', '4']"
      ]
     },
     "execution_count": 6,
     "metadata": {},
     "output_type": "execute_result"
    }
   ],
   "source": [
    "# If you want to apply the given function to each item of a given iterable, use map.\n",
    "\n",
    "nums =[1,2,3,4]\n",
    "list(map(str, nums)) #map() must have at least two arguments."
   ]
  },
  {
   "cell_type": "code",
   "execution_count": 7,
   "id": "71259546",
   "metadata": {},
   "outputs": [
    {
     "data": {
      "text/plain": [
       "[2, 4, 6, 8]"
      ]
     },
     "execution_count": 7,
     "metadata": {},
     "output_type": "execute_result"
    }
   ],
   "source": [
    "def multiply_by_two(num:float):\n",
    "    return num*2\n",
    "list(map(multiply_by_two,nums))"
   ]
  },
  {
   "cell_type": "markdown",
   "id": "b8d6eefc",
   "metadata": {},
   "source": [
    "### Get Elements"
   ]
  },
  {
   "cell_type": "markdown",
   "id": "ecc0f8e2",
   "metadata": {},
   "source": [
    "#### random.choice: Get a Randomly selected  Element from Python List"
   ]
  },
  {
   "cell_type": "code",
   "execution_count": 8,
   "id": "cb0fba07",
   "metadata": {},
   "outputs": [
    {
     "data": {
      "text/plain": [
       "'do excercise'"
      ]
     },
     "execution_count": 8,
     "metadata": {},
     "output_type": "execute_result"
    }
   ],
   "source": [
    "#in this code below, 'do excercise' was picked randomly from a list of options\n",
    "\n",
    "import random\n",
    "to_do_tonight =['stay at home', 'attend a party','do excercise']\n",
    "random.choice (to_do_tonight)"
   ]
  },
  {
   "cell_type": "code",
   "execution_count": 9,
   "id": "6fa5bdee",
   "metadata": {},
   "outputs": [
    {
     "name": "stdout",
     "output_type": "stream",
     "text": [
      "1 no is prime\n"
     ]
    }
   ],
   "source": [
    "# WAP to print given number is Prime or Not Prime \n",
    "num=1\n",
    "flag=False\n",
    "\n",
    "if num >1:\n",
    "    for i in range(2,num):\n",
    "        if num % i==0:\n",
    "            flag=True\n",
    "            break\n",
    "            \n",
    "if flag==True:\n",
    "    print(num,\"no is not prime\")\n",
    "else:\n",
    "    print(num,\"no is prime\")"
   ]
  },
  {
   "cell_type": "code",
   "execution_count": 10,
   "id": "e548d64f",
   "metadata": {},
   "outputs": [],
   "source": [
    "import numpy as np\n",
    "import pandas as pd"
   ]
  },
  {
   "cell_type": "code",
   "execution_count": 11,
   "id": "180562f7",
   "metadata": {},
   "outputs": [],
   "source": [
    "dict1={\"Zeros\":np.zeros(5),\n",
    "        \"Ones\":np.ones(5)}\n"
   ]
  },
  {
   "cell_type": "code",
   "execution_count": 12,
   "id": "542b20b1",
   "metadata": {},
   "outputs": [
    {
     "data": {
      "text/html": [
       "<div>\n",
       "<style scoped>\n",
       "    .dataframe tbody tr th:only-of-type {\n",
       "        vertical-align: middle;\n",
       "    }\n",
       "\n",
       "    .dataframe tbody tr th {\n",
       "        vertical-align: top;\n",
       "    }\n",
       "\n",
       "    .dataframe thead th {\n",
       "        text-align: right;\n",
       "    }\n",
       "</style>\n",
       "<table border=\"1\" class=\"dataframe\">\n",
       "  <thead>\n",
       "    <tr style=\"text-align: right;\">\n",
       "      <th></th>\n",
       "      <th>Zeros</th>\n",
       "      <th>Ones</th>\n",
       "    </tr>\n",
       "  </thead>\n",
       "  <tbody>\n",
       "    <tr>\n",
       "      <th>0</th>\n",
       "      <td>0.0</td>\n",
       "      <td>1.0</td>\n",
       "    </tr>\n",
       "    <tr>\n",
       "      <th>1</th>\n",
       "      <td>0.0</td>\n",
       "      <td>1.0</td>\n",
       "    </tr>\n",
       "    <tr>\n",
       "      <th>2</th>\n",
       "      <td>0.0</td>\n",
       "      <td>1.0</td>\n",
       "    </tr>\n",
       "    <tr>\n",
       "      <th>3</th>\n",
       "      <td>0.0</td>\n",
       "      <td>1.0</td>\n",
       "    </tr>\n",
       "    <tr>\n",
       "      <th>4</th>\n",
       "      <td>0.0</td>\n",
       "      <td>1.0</td>\n",
       "    </tr>\n",
       "  </tbody>\n",
       "</table>\n",
       "</div>"
      ],
      "text/plain": [
       "   Zeros  Ones\n",
       "0    0.0   1.0\n",
       "1    0.0   1.0\n",
       "2    0.0   1.0\n",
       "3    0.0   1.0\n",
       "4    0.0   1.0"
      ]
     },
     "execution_count": 12,
     "metadata": {},
     "output_type": "execute_result"
    }
   ],
   "source": [
    "df=pd.DataFrame(dict1)\n",
    "df"
   ]
  },
  {
   "cell_type": "markdown",
   "id": "566a2a17",
   "metadata": {},
   "source": [
    "## WAP to append two list "
   ]
  },
  {
   "cell_type": "code",
   "execution_count": 13,
   "id": "480d17f6",
   "metadata": {},
   "outputs": [
    {
     "data": {
      "text/plain": [
       "[13, 45, 78, 23, 98, 65, 100, [10, 34, 20, 40, 70, 70, 40]]"
      ]
     },
     "execution_count": 13,
     "metadata": {},
     "output_type": "execute_result"
    }
   ],
   "source": [
    "list1 = [13,45,78,23,98,65,100]\n",
    "list2 = [10,34,20,40,70,70,40]\n",
    "list1.append(list2)\n",
    "list1"
   ]
  },
  {
   "cell_type": "code",
   "execution_count": 14,
   "id": "31c6dbd7",
   "metadata": {},
   "outputs": [
    {
     "data": {
      "text/plain": [
       "[5, 10, 20, 25, 30, 2, 9, 6, 78, 43, 23, 12]"
      ]
     },
     "execution_count": 14,
     "metadata": {},
     "output_type": "execute_result"
    }
   ],
   "source": [
    "l1 = [5,10,20,25,30,2]\n",
    "l2 = [9,6,78,43,23,12]\n",
    "l1.extend(l2)\n",
    "l1"
   ]
  },
  {
   "cell_type": "markdown",
   "id": "d7447e64",
   "metadata": {},
   "source": [
    "## WAP to check weather number is prime  or not"
   ]
  },
  {
   "cell_type": "code",
   "execution_count": 15,
   "id": "f9a0423f",
   "metadata": {},
   "outputs": [
    {
     "name": "stdout",
     "output_type": "stream",
     "text": [
      "Enter the number to check:1\n"
     ]
    }
   ],
   "source": [
    "x = int(input('Enter the number to check:'))\n",
    "if x>1:\n",
    "    for i in range (2,x):\n",
    "        if x%i ==0:\n",
    "            print(f'{x} is not a prime number')\n",
    "            break\n",
    "        else:\n",
    "            print(f'{x} is prime number')\n",
    "                "
   ]
  },
  {
   "cell_type": "markdown",
   "id": "045bfe3d",
   "metadata": {},
   "source": [
    "## WAP to check weather number is even  or odd"
   ]
  },
  {
   "cell_type": "code",
   "execution_count": 16,
   "id": "a6956ce8",
   "metadata": {},
   "outputs": [
    {
     "name": "stdout",
     "output_type": "stream",
     "text": [
      "Enter the number:2\n",
      "the given number is even\n"
     ]
    }
   ],
   "source": [
    "num = int(input(\"Enter the number:\"))\n",
    "if num%2==0:\n",
    "    print('the given number is even')\n",
    "else:\n",
    "    print('the given number is odd')\n"
   ]
  },
  {
   "cell_type": "markdown",
   "id": "97948cf6",
   "metadata": {},
   "source": [
    "## Find out the maximum number from the given list "
   ]
  },
  {
   "cell_type": "code",
   "execution_count": 17,
   "id": "63e23481",
   "metadata": {},
   "outputs": [
    {
     "data": {
      "text/plain": [
       "61"
      ]
     },
     "execution_count": 17,
     "metadata": {},
     "output_type": "execute_result"
    }
   ],
   "source": [
    "list1 = [4,6,7,8,1,34,61,53]\n",
    "max(list1)"
   ]
  },
  {
   "cell_type": "markdown",
   "id": "d2121002",
   "metadata": {},
   "source": [
    "## Find out the maximum number from the given list using For Loop "
   ]
  },
  {
   "cell_type": "code",
   "execution_count": 18,
   "id": "7ce6d60f",
   "metadata": {},
   "outputs": [
    {
     "name": "stdout",
     "output_type": "stream",
     "text": [
      "94\n"
     ]
    }
   ],
   "source": [
    "list1=[12,10,45,23,78,94,15]\n",
    "max1 =0\n",
    "for i in list1:\n",
    "    if i>max1:\n",
    "        max1 = i\n",
    "print(max1)   "
   ]
  },
  {
   "cell_type": "markdown",
   "id": "2e141c32",
   "metadata": {},
   "source": [
    "## Find out the minimum number from the given list using For Loop"
   ]
  },
  {
   "cell_type": "code",
   "execution_count": 19,
   "id": "bfd2cc34",
   "metadata": {},
   "outputs": [
    {
     "name": "stdout",
     "output_type": "stream",
     "text": [
      "23\n"
     ]
    }
   ],
   "source": [
    "list2 = [23,54,87,97,54,61]\n",
    "min1 = list2[0]\n",
    "for i in list2:\n",
    "    if i<min1:\n",
    "        min1=i\n",
    "print(min1)        "
   ]
  },
  {
   "cell_type": "markdown",
   "id": "06e19553",
   "metadata": {},
   "source": [
    "## Find out the square of given list using list Comprehension"
   ]
  },
  {
   "cell_type": "code",
   "execution_count": 20,
   "id": "7e793f27",
   "metadata": {},
   "outputs": [
    {
     "data": {
      "text/plain": [
       "[100, 529, 144, 400, 900, 1849]"
      ]
     },
     "execution_count": 20,
     "metadata": {},
     "output_type": "execute_result"
    }
   ],
   "source": [
    "num = [10,23,12,20,30,43]\n",
    "square = [i**2 for i in num]\n",
    "square"
   ]
  },
  {
   "cell_type": "markdown",
   "id": "39aa537a",
   "metadata": {},
   "source": [
    "## WAP to print square of given number using Lambda Function"
   ]
  },
  {
   "cell_type": "code",
   "execution_count": 21,
   "id": "ffd1b8b5",
   "metadata": {},
   "outputs": [
    {
     "data": {
      "text/plain": [
       "[81, 16, 36, 49, 9, 25, 676, 1024]"
      ]
     },
     "execution_count": 21,
     "metadata": {},
     "output_type": "execute_result"
    }
   ],
   "source": [
    "l1 = [9,4,6,7,3,5,26,32]\n",
    "sqr = lambda x:x**2\n",
    "l2 = list(map(sqr,l1))\n",
    "l2"
   ]
  },
  {
   "cell_type": "markdown",
   "id": "ee06cddb",
   "metadata": {},
   "source": [
    "## WAP to print sum of first 10 numbers "
   ]
  },
  {
   "cell_type": "code",
   "execution_count": 22,
   "id": "b43b0ac0",
   "metadata": {},
   "outputs": [
    {
     "name": "stdout",
     "output_type": "stream",
     "text": [
      "Addition 1\n",
      "Addition 2\n",
      "Addition 3\n",
      "Addition 4\n",
      "Addition 5\n",
      "Addition 6\n",
      "Addition 7\n",
      "Addition 8\n",
      "Addition 9\n",
      "Addition 10\n"
     ]
    }
   ],
   "source": [
    "num = 1 \n",
    "add = 0\n",
    "n = 10 \n",
    "while num<=n:\n",
    "    add = add+1\n",
    "    num = num+1\n",
    "    print('Addition',add)"
   ]
  },
  {
   "cell_type": "markdown",
   "id": "5a32a93e",
   "metadata": {},
   "source": [
    "## wap with using Enumerate function"
   ]
  },
  {
   "cell_type": "code",
   "execution_count": 23,
   "id": "92c36f29",
   "metadata": {},
   "outputs": [
    {
     "data": {
      "text/plain": [
       "{'math': 60, 'lang': 85, 'phy': 65, 'bio': 70, 'english': 80}"
      ]
     },
     "execution_count": 23,
     "metadata": {},
     "output_type": "execute_result"
    }
   ],
   "source": [
    "sub_name = ['math','lang','phy','bio','english']\n",
    "marks = [60,85,65,70,80]\n",
    "result ={}\n",
    "for index, sub_name in enumerate (sub_name):\n",
    "    result[sub_name] = marks[index]\n",
    "result    "
   ]
  },
  {
   "cell_type": "markdown",
   "id": "922ac969",
   "metadata": {},
   "source": [
    "## WAP without using Enumerate function"
   ]
  },
  {
   "cell_type": "code",
   "execution_count": 24,
   "id": "feff5e9b",
   "metadata": {},
   "outputs": [
    {
     "name": "stdout",
     "output_type": "stream",
     "text": [
      "{'math': 80}\n",
      "{'math': 80, 'lang': 80}\n",
      "{'math': 80, 'lang': 80, 'phy': 80}\n",
      "{'math': 80, 'lang': 80, 'phy': 80, 'bio': 80}\n",
      "{'math': 80, 'lang': 80, 'phy': 80, 'bio': 80, 'english': 80}\n"
     ]
    }
   ],
   "source": [
    "sub_name = ['math','lang','phy','bio','english']\n",
    "marks = [60,85,65,70,80]\n",
    "result = {}\n",
    "for i in sub_name:\n",
    "    for j in marks:\n",
    "        result[i] = j\n",
    "    print(result)    "
   ]
  },
  {
   "cell_type": "markdown",
   "id": "676bd0e8",
   "metadata": {},
   "source": [
    "## WAP to print Cube of 1 to 11 range"
   ]
  },
  {
   "cell_type": "code",
   "execution_count": 25,
   "id": "925f62ce",
   "metadata": {},
   "outputs": [
    {
     "name": "stdout",
     "output_type": "stream",
     "text": [
      "{1: 1, 2: 1, 3: 1, 4: 1, 5: 1, 6: 1, 7: 1, 8: 1, 9: 1, 10: 1}\n"
     ]
    }
   ],
   "source": [
    "cube = {}\n",
    "for i in range (1,11):\n",
    "    cube[i] = 1**3\n",
    "print(cube)      "
   ]
  },
  {
   "cell_type": "markdown",
   "id": "93471d64",
   "metadata": {},
   "source": [
    "## WAP to print Fibonacci series from 1 to 10"
   ]
  },
  {
   "cell_type": "code",
   "execution_count": 26,
   "id": "db0d910e",
   "metadata": {},
   "outputs": [
    {
     "name": "stdout",
     "output_type": "stream",
     "text": [
      "0\n",
      "1\n",
      "1\n",
      "2\n",
      "3\n",
      "5\n",
      "8\n",
      "13\n",
      "21\n",
      "34\n"
     ]
    }
   ],
   "source": [
    "a = 0\n",
    "b = 1\n",
    "for i in range(10):\n",
    "    print(a)\n",
    "    a,b=b,a+b"
   ]
  },
  {
   "cell_type": "code",
   "execution_count": 27,
   "id": "6b488e59",
   "metadata": {},
   "outputs": [
    {
     "name": "stdout",
     "output_type": "stream",
     "text": [
      "[0, 1, 1, 2, 3, 5, 8, 13, 21, 34, 55, 89]\n"
     ]
    }
   ],
   "source": [
    "#other way to solve Fibonacci series from 1 to 10\n",
    "\n",
    "list1 = [0,1]\n",
    "for i in range(0,10):\n",
    "    list1.append(sum(list1[-2:]))\n",
    "print(list1)    "
   ]
  },
  {
   "cell_type": "markdown",
   "id": "17c3210d",
   "metadata": {},
   "source": [
    "## Check if string is palindrome or not"
   ]
  },
  {
   "cell_type": "code",
   "execution_count": 28,
   "id": "4d16e5e3",
   "metadata": {},
   "outputs": [
    {
     "name": "stdout",
     "output_type": "stream",
     "text": [
      "True\n"
     ]
    }
   ],
   "source": [
    "def is_palindrome(x):\n",
    "    return x== x[::-1]\n",
    "print(is_palindrome('nitin'))"
   ]
  },
  {
   "cell_type": "markdown",
   "id": "960146aa",
   "metadata": {},
   "source": [
    "## Write a python function that takes sentence as input and give number of words in sentence as a output"
   ]
  },
  {
   "cell_type": "code",
   "execution_count": 29,
   "id": "7a7598d8",
   "metadata": {},
   "outputs": [
    {
     "ename": "TypeError",
     "evalue": "object of type 'function' has no len()",
     "output_type": "error",
     "traceback": [
      "\u001b[1;31m---------------------------------------------------------------------------\u001b[0m",
      "\u001b[1;31mTypeError\u001b[0m                                 Traceback (most recent call last)",
      "\u001b[1;32m~\\AppData\\Local\\Temp/ipykernel_5368/4021978601.py\u001b[0m in \u001b[0;36m<module>\u001b[1;34m\u001b[0m\n\u001b[0;32m      3\u001b[0m         \u001b[1;32mpass\u001b[0m\u001b[1;33m\u001b[0m\u001b[1;33m\u001b[0m\u001b[0m\n\u001b[0;32m      4\u001b[0m     \u001b[1;32mreturn\u001b[0m \u001b[0mlen\u001b[0m\u001b[1;33m(\u001b[0m\u001b[0mnum_words\u001b[0m\u001b[1;33m)\u001b[0m\u001b[1;33m\u001b[0m\u001b[1;33m\u001b[0m\u001b[0m\n\u001b[1;32m----> 5\u001b[1;33m \u001b[0mnum_words\u001b[0m\u001b[1;33m(\u001b[0m\u001b[1;34m'my name is snehal'\u001b[0m\u001b[1;33m)\u001b[0m\u001b[1;33m\u001b[0m\u001b[1;33m\u001b[0m\u001b[0m\n\u001b[0m",
      "\u001b[1;32m~\\AppData\\Local\\Temp/ipykernel_5368/4021978601.py\u001b[0m in \u001b[0;36mnum_words\u001b[1;34m(text)\u001b[0m\n\u001b[0;32m      2\u001b[0m     \u001b[1;32mfor\u001b[0m \u001b[0mnum\u001b[0m \u001b[1;32min\u001b[0m \u001b[0mtext\u001b[0m\u001b[1;33m.\u001b[0m\u001b[0msplit\u001b[0m\u001b[1;33m(\u001b[0m\u001b[1;33m)\u001b[0m\u001b[1;33m:\u001b[0m\u001b[1;33m\u001b[0m\u001b[1;33m\u001b[0m\u001b[0m\n\u001b[0;32m      3\u001b[0m         \u001b[1;32mpass\u001b[0m\u001b[1;33m\u001b[0m\u001b[1;33m\u001b[0m\u001b[0m\n\u001b[1;32m----> 4\u001b[1;33m     \u001b[1;32mreturn\u001b[0m \u001b[0mlen\u001b[0m\u001b[1;33m(\u001b[0m\u001b[0mnum_words\u001b[0m\u001b[1;33m)\u001b[0m\u001b[1;33m\u001b[0m\u001b[1;33m\u001b[0m\u001b[0m\n\u001b[0m\u001b[0;32m      5\u001b[0m \u001b[0mnum_words\u001b[0m\u001b[1;33m(\u001b[0m\u001b[1;34m'my name is snehal'\u001b[0m\u001b[1;33m)\u001b[0m\u001b[1;33m\u001b[0m\u001b[1;33m\u001b[0m\u001b[0m\n",
      "\u001b[1;31mTypeError\u001b[0m: object of type 'function' has no len()"
     ]
    }
   ],
   "source": [
    "def num_words(text):\n",
    "    for num in text.split():\n",
    "        pass\n",
    "    return len(num_words)\n",
    "num_words('my name is snehal')"
   ]
  },
  {
   "cell_type": "code",
   "execution_count": null,
   "id": "cbece06d",
   "metadata": {},
   "outputs": [],
   "source": [
    "a_string = \"one two three\"\n",
    "word_list = a_string.split()\n",
    "#Split `a_string` by whitespace\n",
    "\n",
    "number_of_words = len(word_list)\n",
    "print(number_of_words)"
   ]
  },
  {
   "cell_type": "markdown",
   "id": "36795d2e",
   "metadata": {},
   "source": [
    "## WAP take a name as a input and say \"Hello\" that name as output."
   ]
  },
  {
   "cell_type": "code",
   "execution_count": null,
   "id": "68cfdcc6",
   "metadata": {},
   "outputs": [],
   "source": [
    "print('Hello', input(prompt =\"Enter Your Name:\"))"
   ]
  },
  {
   "cell_type": "code",
   "execution_count": null,
   "id": "fbaaa23f",
   "metadata": {},
   "outputs": [],
   "source": [
    "take some simple example and show one Lambda function"
   ]
  },
  {
   "cell_type": "markdown",
   "id": "05780eaa",
   "metadata": {},
   "source": [
    "## Check if list contains Integer x"
   ]
  },
  {
   "cell_type": "code",
   "execution_count": null,
   "id": "f00c5653",
   "metadata": {},
   "outputs": [],
   "source": [
    "l = [3,3,4,5,2,111,5]\n",
    "print(111 in l) #True"
   ]
  },
  {
   "cell_type": "markdown",
   "id": "3ffa07c0",
   "metadata": {},
   "source": [
    "## check if Two strings are Anagrams"
   ]
  },
  {
   "cell_type": "code",
   "execution_count": null,
   "id": "a085cc96",
   "metadata": {},
   "outputs": [],
   "source": [
    "def is_anagram(s1, s2):\n",
    "    return set(s1) == set(s2)\n",
    "print(is_anagram(\"snehal\",\"sanelh\")) # True"
   ]
  },
  {
   "cell_type": "code",
   "execution_count": null,
   "id": "2506705e",
   "metadata": {},
   "outputs": [],
   "source": [
    "find duplicate numbers in integer list"
   ]
  },
  {
   "cell_type": "markdown",
   "id": "30071621",
   "metadata": {},
   "source": [
    "### PROBLEM 1:"
   ]
  },
  {
   "cell_type": "raw",
   "id": "c509abef",
   "metadata": {},
   "source": [
    "Given two Strings \"a\" and \"z\", return TRUE if \"a\" is subsequence of \"z\", or FALSE Otherwise.\n",
    "\n",
    "Subsequence Definition:\n",
    "    String \"a\" is Subsequence of String \"z\" if the character in string \"a\" appear in the same order (contiguous  or otherwise) \n",
    "    in String \"z\".\n",
    "NOTE : An Empty String is a subsequence of Every String.\n",
    "Example : \n",
    "    Input: a = \"ace\" ; z = \"abcde\"\n",
    "    Output: TRUE\n",
    "        \n",
    "    Input: a = \"aec\" ; z = \"abcde\"    \n",
    "    Output : FALSE    "
   ]
  },
  {
   "cell_type": "markdown",
   "id": "c5a36145",
   "metadata": {},
   "source": [
    "### Answer:"
   ]
  },
  {
   "cell_type": "code",
   "execution_count": null,
   "id": "cda2b84e",
   "metadata": {},
   "outputs": [],
   "source": [
    "def isSubSequence(string1, string2, a, z):\n",
    "    # Base Cases\n",
    "    if a == 0:\n",
    "        return True\n",
    "    if z == 0:\n",
    "        return False\n",
    " \n",
    "    # If last characters of two\n",
    "    # strings are matching\n",
    "    if string1[a-1] == string2[z-1]:\n",
    "        return isSubSequence(string1, string2, a-1, z-1)\n",
    " \n",
    "    # If last characters are not matching\n",
    "    return isSubSequence(string1, string2, a, z-1)\n",
    " \n",
    " \n",
    "# Driver program to test the above function\n",
    "string1 = \"ace\"\n",
    "string2 = \"abcde\"\n",
    " \n",
    "if isSubSequence(string1, string2, len(string1), len(string2)):\n",
    "    print (\"TRUE\")\n",
    "else:\n",
    "    print (\"FALSE\")"
   ]
  },
  {
   "cell_type": "markdown",
   "id": "20ffd485",
   "metadata": {},
   "source": [
    "### PROBLEM :2"
   ]
  },
  {
   "cell_type": "raw",
   "id": "999dfcae",
   "metadata": {},
   "source": [
    "Give an Integer \"n\", return an array \"a\" of length \"n+1\" such that for each \"i\" (0<=i<=n), a[i] is the number of 1's in the binary representation of \"1\".  \n",
    "\n",
    "Example: \n",
    "         Input: 5\n",
    "         Output: [0,1,1,2,1,2]\n",
    "         \n",
    "         Input : 11\n",
    "         Output: [0,1,1,2,1,2,2,3,1,2,2,3]"
   ]
  },
  {
   "cell_type": "markdown",
   "id": "741d23f7",
   "metadata": {},
   "source": [
    "### Answer:"
   ]
  },
  {
   "cell_type": "code",
   "execution_count": null,
   "id": "b755042b",
   "metadata": {},
   "outputs": [],
   "source": [
    "num = int(input())\n",
    "l = []\n",
    "for i in range(num+1):\n",
    "    i = list(bin(i))\n",
    "    sum=0\n",
    "    for j in i :\n",
    "        if j=='1':\n",
    "            sum +=1\n",
    "    l.append(sum)\n",
    "    \n",
    "print(l)    "
   ]
  },
  {
   "cell_type": "markdown",
   "id": "cd5498fe",
   "metadata": {},
   "source": [
    "### PROBLEM 3:"
   ]
  },
  {
   "cell_type": "raw",
   "id": "4e3daca8",
   "metadata": {},
   "source": [
    "Given two Strings \"a\" and \"z\", return TRUE if \"a\" is longest common subsequence of \"z\", or FALSE Otherwise.\n",
    "[find Longest Common Subsequence]\n",
    "Subsequence Definition:\n",
    "    String \"a\" is Subsequence of String \"z\" if the character in string \"a\" appear in the same order (contiguous  or otherwise) \n",
    "    in String \"z\".\n",
    "NOTE : An Empty String is a subsequence of Every String.\n",
    "Example : \n",
    "    Input: a = \"ace\" ; z = \"abcde\"\n",
    "    Output: TRUE\n",
    "        \n",
    "    Input: a = \"aec\" ; z = \"abcde\"    \n",
    "    Output : FALSE    "
   ]
  },
  {
   "cell_type": "markdown",
   "id": "53a97f79",
   "metadata": {},
   "source": [
    "### Answer:"
   ]
  },
  {
   "cell_type": "code",
   "execution_count": null,
   "id": "442df3b4",
   "metadata": {},
   "outputs": [],
   "source": [
    "#Lets go with the recursive approach and breakdown the problem into sub-problem\n",
    "\n",
    "def lcs(s1, s2, m,n):\n",
    "    \n",
    "    if m==0 or n==0:\n",
    "        return 0\n",
    "    elif s1[m-1] == s2[n-1]: #if last element of current string in both the strings are equal \n",
    "        return 1 + lcs(s1,s2,m-1,n-1); #do recursive call by dropping last element from the both string\n",
    "    else:\n",
    "        return max(lcs(s1,s2,m,n-1), lcs(s1,s2,m-1,n)); #else drop last element from either of s1 or s2\n",
    "    \n",
    "s1 = input(\"enter first string: \")\n",
    "s2 = input(\"enter second string:\")\n",
    "if lcs(s1, s2, len(s1),len(s2)):\n",
    "    print(1)\n",
    "else:\n",
    "    print(0)"
   ]
  },
  {
   "cell_type": "markdown",
   "id": "0499a9f2",
   "metadata": {},
   "source": [
    "### PROBLEM-4"
   ]
  },
  {
   "cell_type": "raw",
   "id": "8d8552cb",
   "metadata": {},
   "source": [
    "Second Largest\n",
    "\n",
    "Give an array (containing at most 1000 positive integers), find the second largest number .\n",
    "if there exists no second largest integer, return -1.\n",
    "\n",
    "Input Specification:\n",
    "    Input: Length of the Array \n",
    "    Input2 : An array of positive integers\n",
    "    \n",
    "Output Specification:\n",
    "    Return the second largest number  or -1 accordingly.\n",
    "    \n",
    "Example1:\n",
    "    Input1: 3\n",
    "    Input2: {2,1,2}\n",
    "    \n",
    "    Output: 1"
   ]
  },
  {
   "cell_type": "markdown",
   "id": "9f56835f",
   "metadata": {},
   "source": [
    "#### Answer"
   ]
  },
  {
   "cell_type": "raw",
   "id": "2261dfba",
   "metadata": {},
   "source": [
    "1 is the Second Largest in the Array "
   ]
  },
  {
   "cell_type": "raw",
   "id": "fcf38e7a",
   "metadata": {},
   "source": [
    "Example 2: \n",
    "    Input1 : 3\n",
    "    Input2 :{2,2,2}    \n",
    "        \n",
    "    Output : -1    "
   ]
  },
  {
   "cell_type": "markdown",
   "id": "d4a14321",
   "metadata": {},
   "source": [
    "#### Answer"
   ]
  },
  {
   "cell_type": "raw",
   "id": "29df7708",
   "metadata": {},
   "source": [
    "As 2 is the only Digit in the array so there can't be a second Largest.\n",
    "Hence the Output is -1."
   ]
  },
  {
   "cell_type": "markdown",
   "id": "f0836cd2",
   "metadata": {},
   "source": [
    "### Problem-5"
   ]
  },
  {
   "cell_type": "raw",
   "id": "a465cb70",
   "metadata": {},
   "source": [
    "CAT Pairs\n",
    "\n",
    "Tim while preparing for the CAT exam, was studying the Topic Number systems. \n",
    "He encountered a following Difficult Question:"
   ]
  },
  {
   "cell_type": "raw",
   "id": "3f27e6a6",
   "metadata": {},
   "source": [
    "Given a number N, find the number of pairs(x,y) where both x and y are less then N \n",
    "and Highest Common Factor(HCF)of x and y is 1.\n",
    "\n",
    "You have to solve the question for him.\n",
    "\n",
    "NOTE: 0 can be included within the pairs.\n",
    "    \n",
    "Input Specification:\n",
    "    Input1 : the number N from which the pairs(x,y) should be obtained \n",
    "    \n",
    "Output Specification:\n",
    "    Return the total number of pairs.\n",
    "    \n",
    "Example-1 : \n",
    "    Input1: 4\n",
    "        \n",
    "    Output: 9    "
   ]
  },
  {
   "cell_type": "markdown",
   "id": "fe527bd1",
   "metadata": {},
   "source": [
    "### Answer"
   ]
  },
  {
   "cell_type": "raw",
   "id": "ecaf804a",
   "metadata": {},
   "source": [
    "The pairs can be (1,0),(0,1),(1,1),(1,2),(2,1),(1,3),(3,1),(2,3),(3,2)\n",
    "so a total number of pairs is 9."
   ]
  },
  {
   "cell_type": "markdown",
   "id": "4ccb5985",
   "metadata": {},
   "source": [
    "### Example-2"
   ]
  },
  {
   "cell_type": "raw",
   "id": "c0c729ff",
   "metadata": {},
   "source": [
    "Input1 : 3\n",
    "\n",
    "Output: 5    "
   ]
  },
  {
   "cell_type": "markdown",
   "id": "13a09466",
   "metadata": {},
   "source": [
    "### Answer:"
   ]
  },
  {
   "cell_type": "raw",
   "id": "8b09af63",
   "metadata": {},
   "source": [
    "The Pairs can be (1,0),(0,1),(1,1),(1,2),(2,1).\n",
    "So, a Total number of pairs is 5."
   ]
  },
  {
   "cell_type": "markdown",
   "id": "08acfa92",
   "metadata": {},
   "source": [
    "### Problem-6"
   ]
  },
  {
   "cell_type": "raw",
   "id": "8c4913fd",
   "metadata": {},
   "source": [
    "Number of Decodings\n",
    "\n",
    "Consider the following encoding Scheme.\n",
    "A -->1, B-->2, Z-->26\n",
    "\n",
    "Given an encoding using this scheme(a string containing at most 1000 digits)\n",
    "find the number of possible decodings\n",
    "\n",
    "the Function should return the number of decodings .\n",
    "\n",
    "NOTE: the input string contains valid digit from 0 to 9 and there are no leading 0's\n",
    "    no extra trailing 0's and no two or more consecutive 0's.\n",
    "    \n",
    "Input Specifiaction:\n",
    "    Input1: the Input String\n",
    "        \n",
    "Output Specification:\n",
    "    Return an integer representing the number of possible decodings .\n",
    "    \n",
    "Example-1:\n",
    "    Input1: 121\n",
    "    \n",
    "    Output: 3\n",
    "    "
   ]
  },
  {
   "cell_type": "markdown",
   "id": "9b02caa9",
   "metadata": {},
   "source": [
    "### Answer-"
   ]
  },
  {
   "cell_type": "raw",
   "id": "c95eea4f",
   "metadata": {},
   "source": [
    "Possible Decodings are 'ABA','AU', and 'LA'. Hence, the number of decodings are 3."
   ]
  },
  {
   "cell_type": "markdown",
   "id": "a6cd779e",
   "metadata": {},
   "source": [
    "### Example-2:"
   ]
  },
  {
   "cell_type": "raw",
   "id": "7cdda643",
   "metadata": {},
   "source": [
    "Input1 : 12345\n",
    "  \n",
    "Output : 3"
   ]
  },
  {
   "cell_type": "markdown",
   "id": "e5fd7b6f",
   "metadata": {},
   "source": [
    "### Answer:"
   ]
  },
  {
   "cell_type": "raw",
   "id": "572208b7",
   "metadata": {},
   "source": [
    "Possible Decodings are 'ABCDE','LCDE', and 'AWDE'. Hence, the number of decodings are 3."
   ]
  },
  {
   "cell_type": "code",
   "execution_count": null,
   "id": "ee41bc84",
   "metadata": {},
   "outputs": [],
   "source": []
  }
 ],
 "metadata": {
  "kernelspec": {
   "display_name": "Python 3 (ipykernel)",
   "language": "python",
   "name": "python3"
  },
  "language_info": {
   "codemirror_mode": {
    "name": "ipython",
    "version": 3
   },
   "file_extension": ".py",
   "mimetype": "text/x-python",
   "name": "python",
   "nbconvert_exporter": "python",
   "pygments_lexer": "ipython3",
   "version": "3.9.7"
  }
 },
 "nbformat": 4,
 "nbformat_minor": 5
}
