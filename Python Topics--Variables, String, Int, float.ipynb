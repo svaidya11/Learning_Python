{
 "cells": [
  {
   "cell_type": "markdown",
   "id": "06c8e881",
   "metadata": {},
   "source": [
    "###### 1. What are the key features of Python?\n"
   ]
  },
  {
   "cell_type": "markdown",
   "id": "400d5619",
   "metadata": {},
   "source": [
    "Python is an interpreted, object-oriented, high-level programming language with dynamic semantics. \n",
    "1. Python is an interpreted language:\n",
    "   It does not require prior compilation\n",
    "2. python is object oriented, High level programming language.\n",
    "3. We can use python with different operating system, Like Windows, Mac, Linux, Rasberry pi\n",
    "4. Simple to debug\n",
    "5. programmer friendly language\n",
    "6. Dynamically typed language (no need to decleare the variable data type)"
   ]
  },
  {
   "cell_type": "markdown",
   "id": "648f528a",
   "metadata": {},
   "source": [
    "###### 2. What are the Data Types in Python?\n"
   ]
  },
  {
   "cell_type": "markdown",
   "id": "bb7c6ae9",
   "metadata": {},
   "source": [
    "Variables can store data of different types, and different types can do different things.\n",
    "\n",
    "Python has the following data types built-in by default, in these categories:\n",
    "\n",
    "Text Type: str\n",
    "Numeric Types: int, float, complex\n",
    "Sequence Types: list, tuple, range\n",
    "Mapping Type: dict\n",
    "Set Types: set, frozenset\n",
    "Boolean Type: bool\n",
    "Binary Types: bytes, bytearray, memoryview"
   ]
  },
  {
   "cell_type": "markdown",
   "id": "e1085c70",
   "metadata": {},
   "source": [
    "3. What are local variables and global variables in Python?\n",
    "\n",
    "1) Local Variable:\n",
    "Local variables are those which are initialized inside a function and belongs only to that particular function.\n",
    "It cannot be accessed anywhere outside the function.\n",
    "2) Global Variable:\n",
    "Global variables are those which are not defined inside any function and have a global scope.\n",
    "Global variables are accessible"
   ]
  },
  {
   "cell_type": "code",
   "execution_count": 52,
   "id": "e71782d3",
   "metadata": {},
   "outputs": [
    {
     "name": "stdout",
     "output_type": "stream",
     "text": [
      "10\n",
      "20\n",
      "10\n"
     ]
    }
   ],
   "source": [
    "x=10 # Global Variable\n",
    "def myfunc():\n",
    "    x=20 # Local variable\n",
    "    print(x)\n",
    "print(x) # As print is outside the function it will take the value of\n",
    "myfunc() # It will print the value of local variable variable inside\n",
    "print(x) # As print"
   ]
  },
  {
   "cell_type": "markdown",
   "id": "7601c5c9",
   "metadata": {},
   "source": [
    "###### 4. How do you write comments in python? And Why Comments are important?\n"
   ]
  },
  {
   "cell_type": "code",
   "execution_count": null,
   "id": "a7d617b8",
   "metadata": {},
   "outputs": [],
   "source": [
    "1) Comments can be used to explain Python code.\n",
    "2) Comments can be used to make the code more readable.\n",
    "3) Comments can be used to prevent execution when testing code.\n",
    "4) Comments can be placed at the end of a line, and Python will ignore the rest of the line:\n",
    "    ex- print(\"Hello, World!\") #This is a comment\n",
    "5) To add a multiline comment you could insert a # for each line:\n",
    "    ex- #This is a comment written in\n",
    "        #more than just one line\n",
    "        print(\"Hello, World!\")"
   ]
  },
  {
   "cell_type": "markdown",
   "id": "072b66b1",
   "metadata": {},
   "source": [
    "###### 5. How to comment on multiple lines in python?"
   ]
  },
  {
   "cell_type": "code",
   "execution_count": null,
   "id": "51c128c8",
   "metadata": {},
   "outputs": [],
   "source": [
    "you can add a multiline string (triple quotes) in your code, and place your comment inside it:\n",
    "    ex- \"\"\"The class\n",
    "        Data Science\n",
    "        Velocity class\"\"\" \n",
    "        print(\"Hello, Nagpur!\")\n",
    "\n",
    "As long as the string is not assigned to a variable, Python will read the code, but then ignore it, \n",
    "and you have made a multiline comment.        "
   ]
  },
  {
   "cell_type": "markdown",
   "id": "39987aa7",
   "metadata": {},
   "source": [
    "###### 6. What do you mean by Python literals?\n"
   ]
  },
  {
   "cell_type": "code",
   "execution_count": null,
   "id": "3f756302",
   "metadata": {},
   "outputs": [],
   "source": [
    "#Python Literals can be defined as data that is given in a variable or constant.\n",
    "\n",
    " we have different types of literals such as string literals, numeric literals, \n",
    "boolean literals and a special literal None.\n",
    "\n",
    "-Generally, literals are a notation for representing a fixed value in source code.\n",
    "They can also be defined as raw value or data given in variables or constants.\n",
    "Types of Literals in Python:\n",
    "    \n",
    "1. String literals\n",
    "String Eg.\"Python\",\"Snehal\"\n",
    "Character Eg. \"a\",\"v\",\"m\"\n",
    "\n",
    "2. Numeric literals\n",
    "Integer Eg. 1,2,564,78\n",
    "Float Eg. 13.2,0.06\n",
    "Complex Eg. 1+2j\n",
    "\n",
    "3. Boolean literals\n",
    "True and False\n",
    "\n",
    "4. Literal Collections\n",
    "List literals Eg. [1,2,3],[\"a\",\"aditya\",34,56,\"python\"]\n",
    "Tuple literals Eg. (1,2,3),(\"Aditya\",)\n",
    "Dict literals Eg. {\"Batch\":10,\"Subj\":\"Python\"}\n",
    "Set literals Eg. {1,2,3,6,5,4}\n",
    "\n",
    "5. Special literals\n",
    "None"
   ]
  },
  {
   "cell_type": "markdown",
   "id": "996e88f3",
   "metadata": {},
   "source": [
    "###### 7. What are different ways to assign value to variables?\n"
   ]
  },
  {
   "cell_type": "code",
   "execution_count": null,
   "id": "52cbb625",
   "metadata": {},
   "outputs": [],
   "source": [
    "# Variables are containers for storing data values.\n",
    "# Python has no command for declaring a variable.\n",
    "# A variable is created the moment you first assign a value to it.\n",
    "\n",
    "1) Assigning single value to multiple variables:\n",
    "    ex- x = 100\n",
    "        y = 100\n",
    "        z = 100\n",
    "        print(f'x == {x}, y == {y}, z == {z}')\n",
    "        \n",
    "2)  Multiple values to multiple variable\n",
    "    ex- x = 100\n",
    "        y = 200\n",
    "        z = 'python'\n",
    "        print(f'x == {x}, y == {y}, z == {z}')"
   ]
  },
  {
   "cell_type": "markdown",
   "id": "87d9d957",
   "metadata": {},
   "source": [
    "##### 8. What are the Escape Characters in python?"
   ]
  },
  {
   "cell_type": "code",
   "execution_count": null,
   "id": "ad524b4b",
   "metadata": {},
   "outputs": [],
   "source": [
    "To insert characters that are illegal in a string, use an escape character.\n",
    "An escape character is a backslash \\ followed by the character you want to insert."
   ]
  },
  {
   "cell_type": "code",
   "execution_count": 53,
   "id": "bc104a76",
   "metadata": {},
   "outputs": [
    {
     "name": "stdout",
     "output_type": "stream",
     "text": [
      "This is \"Python Batch\" started on 5th Feb\n",
      "\n",
      "This is Python Batch\n",
      "started on 5th Feb\n",
      "\n",
      "This is Python Batch started on \t5th Feb\n",
      "\n",
      "This is Python Batch\r",
      "started on 5th Feb\n"
     ]
    }
   ],
   "source": [
    "# 1. \\\" or \\'\n",
    "print(\"This is \\\"Python Batch\\\" started on 5th Feb\")\n",
    "# 2. \\n for New Line\n",
    "print(\"\\nThis is Python Batch\\nstarted on 5th Feb\")\n",
    "# 3. \\t for tab space\n",
    "print(\"\\nThis is Python Batch started on \\t5th Feb\")\n",
    "# 4. \\r for carriage return\n",
    "print(\"\\nThis is Python Batch\\rstarted on 5th Feb\")"
   ]
  },
  {
   "cell_type": "markdown",
   "id": "0ea32e96",
   "metadata": {},
   "source": [
    "###### 9. Which are the different ways to perform string formatting? Explain with example.\n"
   ]
  },
  {
   "cell_type": "code",
   "execution_count": null,
   "id": "a32ddb28",
   "metadata": {},
   "outputs": [],
   "source": [
    "#The format() method formats the specified value(s) and insert them inside the string's placeholder.\n",
    "\n",
    "The placeholder is defined using curly brackets: {}. \n",
    "\n",
    "The format() method returns the formatted string.\n",
    "# syntax - string.format(value1, value2...)\n",
    "example-1) a = 300\n",
    "           b = 200\n",
    "           c = a+b\n",
    "           print('addition of {} and {} is: {}'.format(c,a,b)) (this is not a standard way\n",
    "                                                                \n",
    "        2)txt1 = \"My name is {fname}, I'm {age}\".format(fname = \"John\", age = 36)\n",
    "          txt2 = \"My name is {0}, I'm {1}\".format(\"John\",36)\n",
    "          txt3 = \"My name is {}, I'm {}\".format(\"John\",36)                                                "
   ]
  },
  {
   "cell_type": "markdown",
   "id": "feb00916",
   "metadata": {},
   "source": [
    "###### 10) Write a program to print every character of a string entered by the user in a new line using a loop"
   ]
  },
  {
   "cell_type": "code",
   "execution_count": null,
   "id": "cfca9084",
   "metadata": {},
   "outputs": [],
   "source": [
    "str = (input(\"enetr you own string:\"))\n",
    "for i in str:\n",
    "    print(i)"
   ]
  },
  {
   "cell_type": "markdown",
   "id": "955b3db1",
   "metadata": {},
   "source": [
    "##### 11) Write a program to find the length of the string \"machine learning\" with and without using len function.\n"
   ]
  },
  {
   "cell_type": "code",
   "execution_count": null,
   "id": "23d94e47",
   "metadata": {},
   "outputs": [],
   "source": [
    "str1 = \"machine learning\"\n",
    "length = len(str1)\n",
    "print(\"length of string is\", length)\n",
    "\n",
    "\n",
    "string= \"machine learning\"\n",
    "a=0\n",
    "for char in string:\n",
    "  a=a+1\n",
    "print(\"length of string is\",a)\n"
   ]
  },
  {
   "cell_type": "markdown",
   "id": "9ff52f43",
   "metadata": {},
   "source": [
    "##### 12) Write a program to check if the word 'orange' is present in the \"This is orange juice\".\n"
   ]
  },
  {
   "cell_type": "code",
   "execution_count": null,
   "id": "0d3c4083",
   "metadata": {},
   "outputs": [],
   "source": [
    "string1 = \"This is orange juice\"\n",
    "substring = 'orange'\n",
    "\n",
    "if substring in string1:\n",
    "    print(f'{substring} is present in given string')"
   ]
  },
  {
   "cell_type": "markdown",
   "id": "fa0bc921",
   "metadata": {},
   "source": [
    "##### 13) Write a program to find the number of vowels, consonants, digits, and white space characters in a string.\n"
   ]
  },
  {
   "cell_type": "code",
   "execution_count": 6,
   "id": "a2906a4f",
   "metadata": {},
   "outputs": [
    {
     "name": "stdout",
     "output_type": "stream",
     "text": [
      "the number of vowels 14\n",
      "the number of consonants 21\n",
      "the number of digits 4\n",
      "the number of white_space 8\n"
     ]
    }
   ],
   "source": [
    "str = \"we are learning python and data science in 2022\"\n",
    "vowels = 0\n",
    "consonants = 0\n",
    "digits = 0\n",
    "white_spaces = 0\n",
    "for i in str:\n",
    "    if(i=='a'or i=='e'or i=='i'or i=='o'or i=='u' or i=='A' or i=='E' or i=='I'or i=='O' or i=='U'): \n",
    "        vowels = vowels+1\n",
    "    elif i.isdecimal():\n",
    "        digits = digits+1\n",
    "    elif i == ' ':\n",
    "        white_spaces= white_spaces+1\n",
    "    else:\n",
    "     consonants = consonants+1\n",
    "print(\"the number of vowels\", vowels)\n",
    "print(\"the number of consonants\",consonants)\n",
    "print(\"the number of digits\",digits)\n",
    "print(\"the number of white_space\",white_spaces)\n",
    "       "
   ]
  },
  {
   "cell_type": "markdown",
   "id": "89b07d8f",
   "metadata": {},
   "source": [
    "##### 14. Write a Python program to count Uppercase, Lowercase, special character, and numeric values in a given string."
   ]
  },
  {
   "cell_type": "code",
   "execution_count": 7,
   "id": "c3a1545c",
   "metadata": {},
   "outputs": [
    {
     "name": "stdout",
     "output_type": "stream",
     "text": [
      "upper case letters: 0\n",
      "lower case letters: 35\n",
      "numeric letter: 4\n",
      "special_chars 0\n"
     ]
    }
   ],
   "source": [
    "str3 = \"we are learning python and data science in 2022\"\n",
    "uppercase_letter = 0\n",
    "lowercase_letter = 0\n",
    "special_char = 0\n",
    "numeric_list = 0\n",
    "for i in str3:\n",
    "        if i.isupper():\n",
    "            uppercase_letter = uppercase_letter+1\n",
    "        elif i.islower():\n",
    "            lowercase_letter = lowercase_letter+1\n",
    "        elif i.isdecimal():\n",
    "            numeric_list =   numeric_list+1\n",
    "        elif i != ' ':\n",
    "            special_char = special_char+1\n",
    "            \n",
    "print(\"upper case letters:\",uppercase_letter)   \n",
    "print(\"lower case letters:\",lowercase_letter)\n",
    "print(\"numeric letter:\", numeric_list)\n",
    "print(\"special_chars\",special_char)"
   ]
  },
  {
   "cell_type": "markdown",
   "id": "aff4f1c6",
   "metadata": {},
   "source": [
    "##### 15. Write a program to make a new string with all the consonants deleted from the string \"Hello, have a good day\".\n"
   ]
  },
  {
   "cell_type": "code",
   "execution_count": 2,
   "id": "d66822c3",
   "metadata": {},
   "outputs": [
    {
     "name": "stdout",
     "output_type": "stream",
     "text": [
      "['e', 'o', 'a', 'e', 'a', 'o', 'o', 'a']\n"
     ]
    }
   ],
   "source": [
    "str2 = \"Hello, have a good day\"\n",
    "updated_string = []\n",
    "for i in str2:\n",
    "    if(i=='a'or i=='e'or i=='i'or i=='o'or i=='u' or i=='A' or i=='E' or i=='I'or i=='O' or i=='U'): \n",
    "        updated_string.append(i)\n",
    "        \n",
    "print(updated_string)        \n",
    "    "
   ]
  },
  {
   "cell_type": "markdown",
   "id": "0b7114dc",
   "metadata": {},
   "source": [
    "##### Write a Python program to remove the nth index character from a non-empty string."
   ]
  },
  {
   "cell_type": "code",
   "execution_count": 8,
   "id": "ae122367",
   "metadata": {},
   "outputs": [
    {
     "name": "stdout",
     "output_type": "stream",
     "text": [
      "Enter the string:hello\n",
      "Enter the index of the character to remove:e\n"
     ]
    },
    {
     "ename": "ValueError",
     "evalue": "invalid literal for int() with base 10: 'e'",
     "output_type": "error",
     "traceback": [
      "\u001b[1;31m---------------------------------------------------------------------------\u001b[0m",
      "\u001b[1;31mValueError\u001b[0m                                Traceback (most recent call last)",
      "\u001b[1;32m~\\AppData\\Local\\Temp/ipykernel_18492/402074995.py\u001b[0m in \u001b[0;36m<module>\u001b[1;34m\u001b[0m\n\u001b[0;32m      1\u001b[0m \u001b[0mstring\u001b[0m\u001b[1;33m=\u001b[0m\u001b[0minput\u001b[0m\u001b[1;33m(\u001b[0m\u001b[1;34m\"Enter the string:\"\u001b[0m\u001b[1;33m)\u001b[0m\u001b[1;33m\u001b[0m\u001b[1;33m\u001b[0m\u001b[0m\n\u001b[1;32m----> 2\u001b[1;33m \u001b[0mn\u001b[0m\u001b[1;33m=\u001b[0m\u001b[0mint\u001b[0m\u001b[1;33m(\u001b[0m\u001b[0minput\u001b[0m\u001b[1;33m(\u001b[0m\u001b[1;34m\"Enter the index of the character to remove:\"\u001b[0m\u001b[1;33m)\u001b[0m\u001b[1;33m)\u001b[0m\u001b[1;33m\u001b[0m\u001b[1;33m\u001b[0m\u001b[0m\n\u001b[0m\u001b[0;32m      3\u001b[0m \u001b[0mfirst\u001b[0m \u001b[1;33m=\u001b[0m \u001b[0mstring\u001b[0m\u001b[1;33m[\u001b[0m\u001b[1;33m:\u001b[0m\u001b[0mn\u001b[0m\u001b[1;33m]\u001b[0m\u001b[1;33m\u001b[0m\u001b[1;33m\u001b[0m\u001b[0m\n\u001b[0;32m      4\u001b[0m \u001b[0mlast\u001b[0m \u001b[1;33m=\u001b[0m \u001b[0mstring\u001b[0m\u001b[1;33m[\u001b[0m\u001b[0mn\u001b[0m\u001b[1;33m+\u001b[0m\u001b[1;36m1\u001b[0m\u001b[1;33m:\u001b[0m\u001b[1;33m]\u001b[0m\u001b[1;33m\u001b[0m\u001b[1;33m\u001b[0m\u001b[0m\n\u001b[0;32m      5\u001b[0m \u001b[0mprint\u001b[0m\u001b[1;33m(\u001b[0m\u001b[1;34m\"Modified string:\"\u001b[0m\u001b[1;33m,\u001b[0m\u001b[0mfirst\u001b[0m\u001b[1;33m+\u001b[0m\u001b[0mlast\u001b[0m\u001b[1;33m)\u001b[0m\u001b[1;33m\u001b[0m\u001b[1;33m\u001b[0m\u001b[0m\n",
      "\u001b[1;31mValueError\u001b[0m: invalid literal for int() with base 10: 'e'"
     ]
    }
   ],
   "source": [
    "string=input(\"Enter the string:\")\n",
    "n=int(input(\"Enter the index of the character to remove:\"))\n",
    "first = string[:n]   \n",
    "last = string[n+1:]  \n",
    "print(\"Modified string:\",first+last)\n",
    "\n",
    "#2nd way\n",
    "# replace ( stringtobereplaced, stringtoreplacewith, howmanytimestoreplace)\n",
    "\"These cookies are used to collect information \".replace(string[15],'',1)\n"
   ]
  },
  {
   "cell_type": "code",
   "execution_count": 4,
   "id": "fed8f29e",
   "metadata": {},
   "outputs": [
    {
     "name": "stdout",
     "output_type": "stream",
     "text": [
      "avengers\n",
      "venggers\n"
     ]
    }
   ],
   "source": [
    "def remove_nth(str, index):\n",
    "    new_str = str[:index] + str[index+1:]\n",
    "    return new_str\n",
    "  \n",
    "print(remove_nth('avenggers',5))\n",
    "print(remove_nth('avenggers',0))"
   ]
  },
  {
   "cell_type": "markdown",
   "id": "81123459",
   "metadata": {},
   "source": [
    "##### Write a Python program to change a given string to a new string where the first and last characters have been exchanged."
   ]
  },
  {
   "cell_type": "code",
   "execution_count": 6,
   "id": "7bb46b83",
   "metadata": {},
   "outputs": [
    {
     "name": "stdout",
     "output_type": "stream",
     "text": [
      "Enter a string: hello\n",
      "New string: oellh\n"
     ]
    }
   ],
   "source": [
    "text = input('Enter a string: ')\n",
    "newtext = text[-1]+text[1:-1]+text[0]\n",
    "print('New string:', newtext)\n"
   ]
  },
  {
   "cell_type": "markdown",
   "id": "6cdc4f34",
   "metadata": {},
   "source": [
    "##### 18. Write a Python program to count the occurrences of each word in a given sentence.\n"
   ]
  },
  {
   "cell_type": "code",
   "execution_count": 11,
   "id": "80783fea",
   "metadata": {},
   "outputs": [
    {
     "name": "stdout",
     "output_type": "stream",
     "text": [
      "The count is: 2\n"
     ]
    }
   ],
   "source": [
    "string = \"Python is awesome, isn't it?\"\n",
    "substring = \"is\"\n",
    "\n",
    "count = string.count(substring)\n",
    "print(\"The count is:\", count)"
   ]
  },
  {
   "cell_type": "code",
   "execution_count": 12,
   "id": "45ac9327",
   "metadata": {},
   "outputs": [
    {
     "name": "stdout",
     "output_type": "stream",
     "text": [
      "Number of occurrences found in the string:\n",
      "2\n"
     ]
    }
   ],
   "source": [
    "string=\"This is a sample Python program, Welcome to World Of Python Programming!\"\n",
    "word=\"Python\"\n",
    "list=[]\n",
    "wordCount=0\n",
    "list=string.split(\" \")\n",
    "for i in range(0,len(list)):\n",
    "      if(word==list[i]):\n",
    "            wordCount=wordCount+1\n",
    "print(\"Number of occurrences found in the string:\")\n",
    "print(wordCount)"
   ]
  },
  {
   "cell_type": "markdown",
   "id": "e26e2f5f",
   "metadata": {},
   "source": [
    "##### 19. How do you count the occurrence of a given character in a string?\n"
   ]
  },
  {
   "cell_type": "code",
   "execution_count": null,
   "id": "c4013357",
   "metadata": {},
   "outputs": [],
   "source": [
    "Step 1: Declare a String and store it in a variable.\n",
    "Step 2: Declare a variable wordCount and initialise it to 0.\n",
    "Step 3: Split the string using split(“ ”) function with space as the parameter and store all the words in a list.\n",
    "Step 4: Use a for loop to iterate over the words in the list. While iterating check if the word in the list matches the word given by the user and if match found then increment the value of wordCount variable by 1.\n",
    "Step 5: After completing the for loop print the value of wordCount variable.\n",
    "Step 6: End."
   ]
  },
  {
   "cell_type": "markdown",
   "id": "ccc7e0d1",
   "metadata": {},
   "source": [
    "##### 20. Write a program to find last 10 characters of a string?\n"
   ]
  },
  {
   "cell_type": "code",
   "execution_count": 9,
   "id": "e2b782f9",
   "metadata": {},
   "outputs": [
    {
     "name": "stdout",
     "output_type": "stream",
     "text": [
      "Last character :  ple String\n"
     ]
    }
   ],
   "source": [
    "sample_str = 'Sample String'\n",
    "last_char = sample_str[-10::1]\n",
    "print('Last character : ', last_char)\n"
   ]
  },
  {
   "cell_type": "markdown",
   "id": "1ad2776d",
   "metadata": {},
   "source": [
    "##### 21. WAP to convert a given string to all uppercase if it contains at least 2 uppercase characters in the first 4 characters."
   ]
  },
  {
   "cell_type": "code",
   "execution_count": 22,
   "id": "31139d82",
   "metadata": {},
   "outputs": [
    {
     "name": "stdout",
     "output_type": "stream",
     "text": [
      "Python\n",
      "PYTHON\n"
     ]
    }
   ],
   "source": [
    "def to_uppercase(str1):\n",
    "    num_upper = 0\n",
    "    for letter in str1[:4]: \n",
    "        if letter.upper() == letter:\n",
    "            num_upper += 1\n",
    "    if num_upper >= 2:\n",
    "        return str1.upper()\n",
    "    return str1\n",
    "\n",
    "print(to_uppercase('Python'))\n",
    "print(to_uppercase('PyThon'))"
   ]
  },
  {
   "cell_type": "markdown",
   "id": "e4501aa2",
   "metadata": {},
   "source": [
    "##### 22. Write a Python program to remove a newline in Python.\n"
   ]
  },
  {
   "cell_type": "code",
   "execution_count": 3,
   "id": "fe54c282",
   "metadata": {},
   "outputs": [
    {
     "name": "stdout",
     "output_type": "stream",
     "text": [
      "Python\n",
      "\n",
      "Python\n",
      "['Python']\n",
      "python\n"
     ]
    }
   ],
   "source": [
    "str1='Python\\n'\n",
    "print(str1)\n",
    "print(str1.rstrip())\n",
    "\n",
    "#2 nd way\n",
    "lst=['Python\\n']\n",
    "new_lst=[]\n",
    "for i in lst:\n",
    "    new_lst.append(i.strip())\n",
    "print(new_lst)\n",
    "\n",
    "#3rd way\n",
    "test = 'python\\n'\n",
    "result = test.replace('\\n', '')\n",
    "print(result)\n",
    "\n"
   ]
  },
  {
   "cell_type": "markdown",
   "id": "39670ef6",
   "metadata": {},
   "source": [
    "##### 23. Write a Python program to swap commas and dots in a string\n",
    "○ Sample string: \"32.054,23\"\n",
    "○ Expected Output: \"32,054.23\""
   ]
  },
  {
   "cell_type": "code",
   "execution_count": 5,
   "id": "7cbc95d2",
   "metadata": {},
   "outputs": [
    {
     "name": "stdout",
     "output_type": "stream",
     "text": [
      "32,054.23\n"
     ]
    }
   ],
   "source": [
    "text = \"32.054,23\"\n",
    "output = []\n",
    "\n",
    "for i in range(len(text)):\n",
    "    if text[i] == \".\":\n",
    "        output.append(\",\")\n",
    "    elif text[i] == \",\":\n",
    "        output.append(\".\")\n",
    "    else:\n",
    "        output.append(text[i])\n",
    "\n",
    "print(\"\".join(output))"
   ]
  },
  {
   "cell_type": "markdown",
   "id": "55644b2b",
   "metadata": {},
   "source": [
    "##### 24. Write a Python program to find the first repeated character in a given string\n"
   ]
  },
  {
   "cell_type": "code",
   "execution_count": 19,
   "id": "10d48ba8",
   "metadata": {},
   "outputs": [
    {
     "name": "stdout",
     "output_type": "stream",
     "text": [
      "e is repeated\n"
     ]
    }
   ],
   "source": [
    "str5 = \"Hey, nice to meet you\"\n",
    "\n",
    "new_str = []\n",
    "\n",
    "for char in str5 :\n",
    "    if char in new_str :\n",
    "        print(f'{char} is repeated')\n",
    "        break\n",
    "    new_str.append(char)"
   ]
  },
  {
   "cell_type": "markdown",
   "id": "d86a7ba7",
   "metadata": {},
   "source": [
    "##### 25. Write a Python program to find the second most repeated word in a given string\n"
   ]
  },
  {
   "cell_type": "code",
   "execution_count": 21,
   "id": "c3b9af51",
   "metadata": {
    "scrolled": false
   },
   "outputs": [
    {
     "name": "stdout",
     "output_type": "stream",
     "text": [
      "Enter a string :-hello, how are you? you are so beautiful.\n",
      "are\n"
     ]
    }
   ],
   "source": [
    "string = input(\"Enter a string :-\")\n",
    "lst = string.split()\n",
    "max = 0\n",
    "for i in lst:\n",
    "    if lst.count(i) > max :\n",
    "        max = lst.count(i)\n",
    "        maxvalue = i\n",
    "\n",
    "print(maxvalue)   \n"
   ]
  },
  {
   "cell_type": "markdown",
   "id": "c340c03b",
   "metadata": {},
   "source": [
    "##### 26. Python program to Count Even and Odd numbers in a string"
   ]
  },
  {
   "cell_type": "code",
   "execution_count": 23,
   "id": "c88cf9c4",
   "metadata": {},
   "outputs": [
    {
     "name": "stdout",
     "output_type": "stream",
     "text": [
      "Even numbers in the list:  3\n",
      "Odd numbers in the list:  4\n"
     ]
    }
   ],
   "source": [
    "list1 = [10, 21, 4, 45, 66, 93, 1]\n",
    "  \n",
    "even_count, odd_count = 0, 0\n",
    "  \n",
    "# iterating each number in list\n",
    "for num in list1:\n",
    "      \n",
    "    # checking condition\n",
    "    if num % 2 == 0:\n",
    "        even_count += 1\n",
    "  \n",
    "    else:\n",
    "        odd_count += 1\n",
    "          \n",
    "print(\"Even numbers in the list: \", even_count)\n",
    "print(\"Odd numbers in the list: \", odd_count)"
   ]
  },
  {
   "cell_type": "markdown",
   "id": "9f6aa18d",
   "metadata": {},
   "source": [
    "##### 27. How do you check if a string contains only digits?\n"
   ]
  },
  {
   "cell_type": "code",
   "execution_count": 26,
   "id": "60a8b0ce",
   "metadata": {},
   "outputs": [
    {
     "name": "stdout",
     "output_type": "stream",
     "text": [
      "string contains digits\n"
     ]
    }
   ],
   "source": [
    "if '123'.isdigit():\n",
    "    print(\"string contains digits\") \n",
    "else:\n",
    "    print(\"string does not contain digit\")"
   ]
  },
  {
   "cell_type": "markdown",
   "id": "b1148898",
   "metadata": {},
   "source": [
    "##### 28. How do you remove a given character/word from String?"
   ]
  },
  {
   "cell_type": "code",
   "execution_count": 27,
   "id": "2df881ab",
   "metadata": {},
   "outputs": [
    {
     "data": {
      "text/plain": [
       "'welcome india!'"
      ]
     },
     "execution_count": 27,
     "metadata": {},
     "output_type": "execute_result"
    }
   ],
   "source": [
    "s = \"welcome to india!\"\n",
    "s.replace(\"to \",'')"
   ]
  },
  {
   "cell_type": "markdown",
   "id": "5d4569eb",
   "metadata": {},
   "source": [
    "##### 29. Write a Python program to remove the characters which have odd index values of a given string"
   ]
  },
  {
   "cell_type": "code",
   "execution_count": 30,
   "id": "90691771",
   "metadata": {},
   "outputs": [
    {
     "name": "stdout",
     "output_type": "stream",
     "text": [
      "wlcmetomyhoe\n"
     ]
    }
   ],
   "source": [
    "str = \"welcome to my home\"\n",
    "ls_string = list(str)\n",
    "\n",
    "for index,char in enumerate(ls_string):\n",
    "    if index % 2 :\n",
    "        ls_string.pop(index)\n",
    "print(''.join(ls_string))"
   ]
  },
  {
   "cell_type": "markdown",
   "id": "3d85a743",
   "metadata": {},
   "source": [
    "##### 30. Write a Python function to reverses a string if its length is a multiple of 5"
   ]
  },
  {
   "cell_type": "code",
   "execution_count": 39,
   "id": "34a1de50",
   "metadata": {},
   "outputs": [
    {
     "name": "stdout",
     "output_type": "stream",
     "text": [
      "yrtnuoc ruo ot emoclew ih\n"
     ]
    }
   ],
   "source": [
    "name= \"hi welcome to our country\"\n",
    "if(len(name)%5==0):\n",
    "    print(name[::-1])\n",
    "else:\n",
    "    print(\"cant\")"
   ]
  },
  {
   "cell_type": "markdown",
   "id": "016a49f5",
   "metadata": {},
   "source": [
    "##### 31. Write a Python program to format a number with a percentage(0.05 >> 5%)"
   ]
  },
  {
   "cell_type": "code",
   "execution_count": 41,
   "id": "2ba1b757",
   "metadata": {},
   "outputs": [
    {
     "name": "stdout",
     "output_type": "stream",
     "text": [
      "Enter a number to convert to percentage : 45\n",
      "You have entered 4500.0 %\n"
     ]
    }
   ],
   "source": [
    "number = float(input(\"Enter a number to convert to percentage : \"))\n",
    "print(f\"You have entered { number * 100 } %\")"
   ]
  },
  {
   "cell_type": "markdown",
   "id": "7e50c0bd",
   "metadata": {},
   "source": [
    "##### 32. Write a Python program to reverse words in a string"
   ]
  },
  {
   "cell_type": "code",
   "execution_count": 42,
   "id": "655025fb",
   "metadata": {},
   "outputs": [
    {
     "data": {
      "text/plain": [
       "'aydiav lahens'"
      ]
     },
     "execution_count": 42,
     "metadata": {},
     "output_type": "execute_result"
    }
   ],
   "source": [
    "str1 = 'snehal vaidya'\n",
    "str1[::-1]"
   ]
  },
  {
   "cell_type": "markdown",
   "id": "fb8b0833",
   "metadata": {},
   "source": [
    "##### 33. Write a Python program to swap cases of a given string"
   ]
  },
  {
   "cell_type": "code",
   "execution_count": 43,
   "id": "1f06065f",
   "metadata": {},
   "outputs": [
    {
     "data": {
      "text/plain": [
       "'WeLCoME tO InDIA'"
      ]
     },
     "execution_count": 43,
     "metadata": {},
     "output_type": "execute_result"
    }
   ],
   "source": [
    "text = \"wElcOme To iNdia\"\n",
    "text.swapcase()"
   ]
  },
  {
   "cell_type": "markdown",
   "id": "655c16f4",
   "metadata": {},
   "source": [
    "##### 34. Write a Python program to remove spaces from a given string.\n"
   ]
  },
  {
   "cell_type": "code",
   "execution_count": 48,
   "id": "47e56493",
   "metadata": {},
   "outputs": [
    {
     "data": {
      "text/plain": [
       "'welcometomaharashtra'"
      ]
     },
     "execution_count": 48,
     "metadata": {},
     "output_type": "execute_result"
    }
   ],
   "source": [
    "text1 = 'welcome to maharashtra'\n",
    "text1.replace(' ','')"
   ]
  },
  {
   "cell_type": "markdown",
   "id": "39cf22ec",
   "metadata": {},
   "source": [
    "##### 35. Write a Python program to remove duplicate characters of a given string"
   ]
  },
  {
   "cell_type": "code",
   "execution_count": 55,
   "id": "d724bed0",
   "metadata": {},
   "outputs": [
    {
     "name": "stdout",
     "output_type": "stream",
     "text": [
      "Enter the string: hello ram hey hello\n",
      "Original string is 'hello ram hey hello'\n",
      "String after removing the duplicates are 'helo ramy'\n"
     ]
    }
   ],
   "source": [
    "s=input(\"Enter the string: \")\n",
    "temp=''\n",
    "for i in range(len(s)):\n",
    "    if s[i] not in temp:\n",
    "        temp+=s[i]\n",
    "print(f\"Original string is '{s}'\")\n",
    "print(f\"String after removing the duplicates are '{temp}'\")"
   ]
  },
  {
   "cell_type": "markdown",
   "id": "9d484b5c",
   "metadata": {},
   "source": [
    "##### 36. Write a Python Program to find the area of a circle"
   ]
  },
  {
   "cell_type": "code",
   "execution_count": 56,
   "id": "928b5792",
   "metadata": {},
   "outputs": [
    {
     "name": "stdout",
     "output_type": "stream",
     "text": [
      "Enter the radius of the circle: 2343543\n",
      "Area of the circle with radius 2343543 is 14717450.040000001\n"
     ]
    }
   ],
   "source": [
    "r=int(input(\"Enter the radius of the circle: \"))\n",
    "area=2*3.14*r\n",
    "print(f\"Area of the circle with radius {r} is {area}\")"
   ]
  },
  {
   "cell_type": "markdown",
   "id": "4c5cf074",
   "metadata": {},
   "source": [
    "##### 37. Python Program to find Sum of squares of first n natural numbers"
   ]
  },
  {
   "cell_type": "code",
   "execution_count": 58,
   "id": "ff36eaa1",
   "metadata": {},
   "outputs": [
    {
     "name": "stdout",
     "output_type": "stream",
     "text": [
      "Enter the number upto which sum of square to be calculated:4\n",
      "Sum of squares of 4 natural numbers is: 30\n"
     ]
    }
   ],
   "source": [
    "n=int(input('Enter the number upto which sum of square to be calculated:'))\n",
    "sum=0\n",
    "for i in range(1,n+1):\n",
    "    sum+=i**2\n",
    "print(f\"Sum of squares of {n} natural numbers is: {sum}\")"
   ]
  },
  {
   "cell_type": "markdown",
   "id": "17c3198b",
   "metadata": {},
   "source": [
    "##### 38. Python Program to find cube sum of first n natural numbers"
   ]
  },
  {
   "cell_type": "code",
   "execution_count": 60,
   "id": "560f3513",
   "metadata": {},
   "outputs": [
    {
     "name": "stdout",
     "output_type": "stream",
     "text": [
      "Enter the number upto which sum of cube to be calculated:10\n",
      "Sum of cubes of 10 natural numbers is: 3025\n"
     ]
    }
   ],
   "source": [
    "n=int(input('Enter the number upto which sum of cube to be calculated:'))\n",
    "sum=0\n",
    "for i in range(1,n+1):\n",
    "    sum+=i**3\n",
    "print(f\"Sum of cubes of {n} natural numbers is: {sum}\")"
   ]
  },
  {
   "cell_type": "markdown",
   "id": "59f140de",
   "metadata": {},
   "source": [
    "##### 39. Python Program to find simple interest and compound interest"
   ]
  },
  {
   "cell_type": "code",
   "execution_count": 61,
   "id": "e5a94f09",
   "metadata": {},
   "outputs": [
    {
     "name": "stdout",
     "output_type": "stream",
     "text": [
      "Enter the Principal Amout :23\n",
      "Enter the rate per annum :567\n",
      "Enter the number of year :23\n",
      "Simple Interest is: 2999.43\n",
      "Compound Interest is 2.0731084226586847e+20\n"
     ]
    }
   ],
   "source": [
    "p=int(input(\"Enter the Principal Amout :\"))\n",
    "r=float(input(\"Enter the rate per annum :\"))\n",
    "t=float(input(\"Enter the number of year :\"))\n",
    "si=p*r*t/100\n",
    "ci=(p*(1+(r/100))**t)-p\n",
    "print(f\"Simple Interest is: {si}\\nCompound Interest is {round(ci,2)}\")"
   ]
  },
  {
   "cell_type": "markdown",
   "id": "25b1c01b",
   "metadata": {},
   "source": [
    "##### 40. Python program to check whether a number is Prime or not"
   ]
  },
  {
   "cell_type": "code",
   "execution_count": 2,
   "id": "d465b1f6",
   "metadata": {},
   "outputs": [
    {
     "name": "stdout",
     "output_type": "stream",
     "text": [
      "Enter the number:3\n",
      "3 is a Prime Number\n"
     ]
    }
   ],
   "source": [
    "n=int(input(\"Enter the number:\"))\n",
    "if n>1:\n",
    "    for i in range(2,n):\n",
    "        if n%i==0:\n",
    "            print(f\"{n} is not a Prime Number\")\n",
    "            break\n",
    "        else:\n",
    "            print(f\"{n} is a Prime Number\")\n",
    "else:\n",
    "    print(\"0,1 and negative number neither prime nor composite\")"
   ]
  },
  {
   "cell_type": "markdown",
   "id": "65b56b97",
   "metadata": {},
   "source": [
    "##### Why Python is interpreted language"
   ]
  },
  {
   "cell_type": "code",
   "execution_count": null,
   "id": "d0af4933",
   "metadata": {},
   "outputs": [],
   "source": [
    "Python executes the code line by line i.e., Python is an interpreter language. \n",
    "As we know the computer can’t understand our language, it can only understand the machine language \n",
    "i.e., binary language. So, the Python interpreter converts the code written in python language \n",
    "by the user into the language which computer hardware or system can understand. \n",
    "It does all the time whenever you run your python script.\n",
    "\n"
   ]
  }
 ],
 "metadata": {
  "kernelspec": {
   "display_name": "Python 3 (ipykernel)",
   "language": "python",
   "name": "python3"
  },
  "language_info": {
   "codemirror_mode": {
    "name": "ipython",
    "version": 3
   },
   "file_extension": ".py",
   "mimetype": "text/x-python",
   "name": "python",
   "nbconvert_exporter": "python",
   "pygments_lexer": "ipython3",
   "version": "3.9.7"
  }
 },
 "nbformat": 4,
 "nbformat_minor": 5
}
