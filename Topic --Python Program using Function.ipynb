{
 "cells": [
  {
   "cell_type": "markdown",
   "id": "898ed298",
   "metadata": {},
   "source": [
    "# Python Programming Questions( Function)"
   ]
  },
  {
   "cell_type": "markdown",
   "id": "043bedd3",
   "metadata": {},
   "source": [
    "## Write Python programs using Functions:"
   ]
  },
  {
   "cell_type": "markdown",
   "id": "7b040660",
   "metadata": {},
   "source": [
    "###### 1. Python Program for Find largest prime factor of a number"
   ]
  },
  {
   "cell_type": "code",
   "execution_count": null,
   "id": "cd5be327",
   "metadata": {},
   "outputs": [],
   "source": [
    "def prime_factor(num):\n",
    "    \n",
    "    factors=[]\n",
    "    prime=[]\n",
    "    \n",
    "    for i in range(1,num+1):\n",
    "        if num%1==0:\n",
    "            factors.append(i)\n",
    "            \n",
    "    for i in factors:\n",
    "        for j in range(2,i):\n",
    "            if i%j==0:\n",
    "                break\n",
    "        else:\n",
    "            prime.append(i)\n",
    "            \n",
    "    print(f\"prime factors of number {n} are {prime}\")\n",
    "    return max(prime)\n",
    "\n",
    "n = int(input(\"enter the number: \"))\n",
    "m= prime_factor(num)\n",
    "print(f\"largest prime factor of {n} is {m}\")"
   ]
  },
  {
   "cell_type": "code",
   "execution_count": null,
   "id": "f16a60dc",
   "metadata": {},
   "outputs": [],
   "source": [
    "def prime_factor(num):\n",
    "    temp = num\n",
    "    i = 2\n",
    "    while temp >1:\n",
    "        if temp%i==0:\n",
    "            print(i,end=\",\")\n",
    "            temp = int(temp/i)\n",
    "        else:\n",
    "            i = i+1\n",
    "num =int(input(\"enter any number: \"))    \n",
    "prime_factor(num)\n",
    "           "
   ]
  },
  {
   "cell_type": "markdown",
   "id": "6923abcd",
   "metadata": {},
   "source": [
    "##### 2. Python Program for Product of unique prime factors of a number"
   ]
  },
  {
   "cell_type": "code",
   "execution_count": null,
   "id": "1ec08b9c",
   "metadata": {},
   "outputs": [],
   "source": [
    "def prime_factor(num):\n",
    "    temp = num\n",
    "n =2\n",
    "while n*n < num:\n",
    "    while num%n ==0:\n",
    "        num=num/n\n",
    "    n = n+1\n",
    "prime_factor(num)    \n",
    "\n",
    "num =int(input(\"enter any number: \"))    \n"
   ]
  },
  {
   "cell_type": "code",
   "execution_count": null,
   "id": "ef3f39c8",
   "metadata": {},
   "outputs": [],
   "source": [
    "p = 47 #our prime number\n",
    "n = 2 #our potential factor\n",
    "while n * n < p:\n",
    "\n",
    "    while p%n == 0:\n",
    "        p = p / n\n",
    "        n = n + 1\n",
    "print (p)"
   ]
  },
  {
   "cell_type": "markdown",
   "id": "75489eaf",
   "metadata": {},
   "source": [
    "##### 3. Python Program to find Factorial of Number"
   ]
  },
  {
   "cell_type": "code",
   "execution_count": null,
   "id": "c7758e53",
   "metadata": {},
   "outputs": [],
   "source": [
    "def fact_num(n):\n",
    "    if n<0:\n",
    "        return 'Factorial of prime num is not possible'\n",
    "    elif n==1 or n==0:\n",
    "        return 1\n",
    "    else:\n",
    "        return n*fact_num(n-1)\n",
    "    \n",
    "n = int(input(\"enter the number to calculate factorial: \"))\n",
    "m = fact_num(n)\n",
    "print(f'{n}! = {m}')"
   ]
  },
  {
   "cell_type": "markdown",
   "id": "941a0253",
   "metadata": {},
   "source": [
    "##### 4. Python Program for Find sum of odd factors of a number"
   ]
  },
  {
   "cell_type": "code",
   "execution_count": null,
   "id": "3e7ab285",
   "metadata": {},
   "outputs": [],
   "source": [
    "def sum_odd(num):\n",
    "    \n",
    "    factors = []\n",
    "    add = 0\n",
    "    \n",
    "    for i in range(1,num+1):\n",
    "        if num%i==0:\n",
    "            factors.append(i)\n",
    "            \n",
    "    for i in factors:\n",
    "        if i % 2==1:\n",
    "            add+=i\n",
    "    return add\n",
    "\n",
    "n = int(input(\"enter the number to calculate the sum of odd numbers: \"))\n",
    "s = sum_odd(n)\n",
    "print(f\"sum of odd factors of the {n} is {s}\")"
   ]
  },
  {
   "cell_type": "code",
   "execution_count": null,
   "id": "536736d6",
   "metadata": {},
   "outputs": [],
   "source": [
    "factor =[]\n",
    "def ListofFactors(n):\n",
    "   \n",
    "    for i in range(1,n+1):\n",
    "        if (n%i == 0):\n",
    "            factor.append(i)\n",
    "    return factor      \n",
    "\n",
    "n = int(input(\"enter the number here: \"))\n",
    "lst = ListofFactors(n)\n",
    "odd =list((filter(lambda x:x%2!=0, lst)))\n",
    "print(\"LIST=\",odd)\n",
    "print(\"sum of odd factore is:\",sum(odd))"
   ]
  },
  {
   "cell_type": "markdown",
   "id": "f6b04644",
   "metadata": {},
   "source": [
    "##### 5. Python Program to Check if binary representation is a palindrome."
   ]
  },
  {
   "cell_type": "code",
   "execution_count": null,
   "id": "e0986092",
   "metadata": {},
   "outputs": [],
   "source": [
    "def checkpalindrome(b):\n",
    "    rev = b[::-1]\n",
    "    if(b==rev):\n",
    "        print(\"it is palindrome\")\n",
    "    else:\n",
    "        print(\"it is not palindrome\")\n",
    "\n",
    "n =int (input(\"enter the number is :\"))\n",
    "b = bin(n).replace(\"0b\",\"\")\n",
    "checkpalindrome(b)"
   ]
  },
  {
   "cell_type": "markdown",
   "id": "49d3cbfc",
   "metadata": {},
   "source": [
    "##### 6. Python Program for Number of elements with odd factors in a given range"
   ]
  },
  {
   "cell_type": "code",
   "execution_count": null,
   "id": "d6aa3869",
   "metadata": {
    "scrolled": false
   },
   "outputs": [],
   "source": [
    "def Factor(n):\n",
    "    result = []\n",
    "    for i in range(1,n+1):\n",
    "        if(n%i==0):\n",
    "            result.append(i)\n",
    "    return result\n",
    "\n",
    "start = int(input(\"enter the start point\"))\n",
    "end = int(input(\"enter the end point\"))\n",
    "for i in range (start, end+1):\n",
    "    l=Factor(i)\n",
    "    if(len(l)%2!=0):\n",
    "        print(i)"
   ]
  },
  {
   "cell_type": "markdown",
   "id": "46f03ad9",
   "metadata": {},
   "source": [
    "##### 7. Python Program for Common Divisors of Two Numbers"
   ]
  },
  {
   "cell_type": "code",
   "execution_count": null,
   "id": "12c41a30",
   "metadata": {},
   "outputs": [],
   "source": [
    "x = int(input(\"enter first number:\"))\n",
    "y = int(input(\"enter second number\"))\n",
    "list1 =[]\n",
    "list2 =[]\n",
    "list3 =[]\n",
    "for i in range (1,x+1):\n",
    "    if x%i==0:\n",
    "        list1.append(i)\n",
    "print(list1)\n",
    "for j in range(1,y+1):\n",
    "    if y%j==0:\n",
    "        list2.append(j)\n",
    "print(list2)\n",
    "\n",
    "for i in list1:\n",
    "    for j in list2:\n",
    "        if i == j:\n",
    "            list3.append(j)\n",
    "    print(i) \n",
    "print(f\"Common Divisors of {x} and {y} are :\", list3)\n",
    "print(f\"Length of Numbers which are common divisors: \", len(list3))    "
   ]
  },
  {
   "cell_type": "markdown",
   "id": "e7d731f2",
   "metadata": {},
   "source": [
    "##### 8. Python Program to Check if a count of divisors is even or odd."
   ]
  },
  {
   "cell_type": "code",
   "execution_count": null,
   "id": "fc22e742",
   "metadata": {},
   "outputs": [],
   "source": [
    "x = int(input(\"enter first number:\"))\n",
    "y = int(input(\"enter second number\"))\n",
    "list1 =[]\n",
    "list2 =[]\n",
    "list3 =[]\n",
    "for i in range (1,x+1):\n",
    "    if x%i==0:\n",
    "        list1.append(i)\n",
    "print(list1)\n",
    "for j in range(1,y+1):\n",
    "    if y%j==0:\n",
    "        list2.append(j)\n",
    "print(list2)\n",
    "\n",
    "for i in list1:\n",
    "    for j in list2:\n",
    "        if i == j:\n",
    "            list3.append(j)\n",
    "count_of_divisiors = len(list3)\n",
    "if count_of_divisors%2==0:\n",
    "    print(\"length of divisiors is even\")\n",
    "else:\n",
    "    print(\"length of divisiors is odd\")\n"
   ]
  },
  {
   "cell_type": "markdown",
   "id": "3c396c79",
   "metadata": {},
   "source": [
    "##### 9. Python Program to Find the minimum sum of factors of a number."
   ]
  },
  {
   "cell_type": "code",
   "execution_count": null,
   "id": "adb630e3",
   "metadata": {},
   "outputs": [],
   "source": [
    "x = int(input(\"enter first number:\"))\n",
    "sum = 0\n",
    "list1 =[]\n",
    "for i in range(1,x+1):\n",
    "    for j in range(1,x+1):\n",
    "        if i*j==x:   #x=12\n",
    "            sum = i+j\n",
    "            list1.append(sum)\n",
    "print(min(list1))            "
   ]
  },
  {
   "cell_type": "markdown",
   "id": "0d22507e",
   "metadata": {},
   "source": [
    "##### 10. Python Program to find Difference between sums of odd and even digits"
   ]
  },
  {
   "cell_type": "code",
   "execution_count": null,
   "id": "43ea9887",
   "metadata": {},
   "outputs": [],
   "source": [
    "def diff(n):\n",
    "    s_even=[]\n",
    "    s_odd= []\n",
    "    x=0\n",
    "    while n>0:\n",
    "        x = n%10==0\n",
    "        if x%2==0:\n",
    "            s_even = s_even+x\n",
    "        else:\n",
    "            s_odd = s_odd+x\n",
    "        n = int(n/10)      \n",
    "    return abs(sum(s_even)- sum(s_odd))\n",
    "\n",
    "num = int(input(\"enter the number\"))\n",
    "d=diff(num)\n",
    "print(f\"difference between sums of odd and even digits is {d}\")\n"
   ]
  },
  {
   "cell_type": "markdown",
   "id": "ae4cedf2",
   "metadata": {},
   "source": [
    "##### 11. Python Program for Largest and Smallest K digit number divisible by X."
   ]
  },
  {
   "cell_type": "code",
   "execution_count": null,
   "id": "c9c5593a",
   "metadata": {},
   "outputs": [],
   "source": [
    "def smallest_k_digit(k,x):\n",
    "    for i in range(10**(k-1),10**k):\n",
    "        if i%x==0:\n",
    "            return i\n",
    "        \n",
    "def largest_k_digit(k,x):\n",
    "    for i in range(10**k-1,10**(k-1),-1):\n",
    "        if i%x==0:\n",
    "            return i\n",
    "dig = int(input(\"enter the number of digits: \"))\n",
    "div = int(input(\"enter the divisor\"))\n",
    "print(f\"largest and smallest {digi} digit number divisible by {div} are:\",\n",
    "     smallest_k_digit(k,x), smallest_k_digit(k,x))\n",
    "        "
   ]
  },
  {
   "cell_type": "markdown",
   "id": "e02e61ab",
   "metadata": {},
   "source": [
    "##### 12. Python Program to calculate the area of a Tetrahedron"
   ]
  },
  {
   "cell_type": "code",
   "execution_count": null,
   "id": "f1ee2338",
   "metadata": {},
   "outputs": [],
   "source": [
    "def area_tera(side):\n",
    "    return (3**0.5)*side*side\n",
    "\n",
    "a = int(input(\"enter the value of side of tetrahedron: \"))\n",
    "area =area_tera(a)\n",
    "print(\"area of a teraahedron is: \",round(area,2))"
   ]
  },
  {
   "cell_type": "markdown",
   "id": "f2b6be34",
   "metadata": {},
   "source": [
    "##### 13. Python Program to Find the perimeter of a cylinder"
   ]
  },
  {
   "cell_type": "code",
   "execution_count": null,
   "id": "ab6cf587",
   "metadata": {},
   "outputs": [],
   "source": [
    "\n",
    "def perimeter(radius,height):\n",
    "    return 2*(2*3.14*radius+height)\n",
    "\n",
    "r =int(input(\"enter the value of radius of cylinder:\"))\n",
    "h =int(input(\"enter the value of height of cylinder:\"))\n",
    "p = perimeter(r,h)\n",
    "print(\"perimeter of cylinder is:\",round(p,2))"
   ]
  },
  {
   "cell_type": "markdown",
   "id": "9d147251",
   "metadata": {},
   "source": [
    "##### 14. Python Program to Find the vertex, focus, and directrix of a parabola"
   ]
  },
  {
   "cell_type": "code",
   "execution_count": null,
   "id": "a11f9467",
   "metadata": {},
   "outputs": [],
   "source": [
    "def parabola(a, b, c):\n",
    "    print (\"Vertex in (x,y) is : (\",(-b/(2*a)),\",\",(((4*a*c)-(b**2))/(4*a)),\")\")\n",
    "    print (\"Focus in (x,y) is : (\",(-b/(2*a)),\",\",(((4*a*c)-(b**2)+1)/(4*a)),\")\")\n",
    "    print (\"Directrix: y=\",(int)(c-((b**2)+1)*4*a))\n",
    "\n",
    "print(\"Equation for parabola is y=ax**2+b*x+c. \")\n",
    "a=int(input(\"Enter the value of a :\"))\n",
    "b=int(input(\"Enter the value of b :\"))\n",
    "c=int(input(\"Enter the value of c :\"))\n",
    "parabola(a,b,c)"
   ]
  },
  {
   "cell_type": "markdown",
   "id": "d5e3b9d1",
   "metadata": {},
   "source": [
    "##### 15. Python program to find the most occurring character and its count"
   ]
  },
  {
   "cell_type": "code",
   "execution_count": null,
   "id": "0ba54167",
   "metadata": {},
   "outputs": [],
   "source": [
    "def ch_count(s):\n",
    "    x = s.replace(' ','')\n",
    "    dict1 = {}\n",
    "    for ch in x:\n",
    "        if ch.isalpha():\n",
    "            if ch not in dict1:\n",
    "                dict1[ch]=1\n",
    "            else:\n",
    "                dict1[ch]+=1\n",
    "    z= sorted(dict1.items(),key= lambda x: x[1], reverse=true)\n",
    "    return z[0]\n",
    "\n",
    "s = input('enter any string')\n",
    "print('most occurring character and its count is',ch_count(s))\n",
    "                "
   ]
  },
  {
   "cell_type": "markdown",
   "id": "27a4ea10",
   "metadata": {},
   "source": [
    "##### 16. Python Program to Find the sum of even factors of a number"
   ]
  },
  {
   "cell_type": "code",
   "execution_count": null,
   "id": "70ca2fc2",
   "metadata": {},
   "outputs": [],
   "source": [
    "def even_factor(n):\n",
    "    list1 =[]\n",
    "    for i in range(2,n):\n",
    "        if n % i == 0:\n",
    "            if i % 2 == 0:\n",
    "                list1.append(i)\n",
    "    print(list1)   \n",
    "    sum1 =0\n",
    "    for item in list1:\n",
    "        sum1 += item\n",
    "    return sum1\n",
    "n = int(input('entee the value: '))\n",
    "sum_even = even_factor(n)\n",
    "print('sum of even factors of number is:',sum_even)"
   ]
  },
  {
   "cell_type": "markdown",
   "id": "3b458d9a",
   "metadata": {},
   "source": [
    "##### 17. Python Program to Check if all digits of a number divide it"
   ]
  },
  {
   "cell_type": "code",
   "execution_count": null,
   "id": "7496d20c",
   "metadata": {},
   "outputs": [],
   "source": [
    "def fun(x):\n",
    "    try:\n",
    "        for ch in x:\n",
    "            if int(x)%int(ch) != 0:\n",
    "                return 'given number is NOT divisable by its digits individually'\n",
    "            else:\n",
    "                return 'given number is divisable by all its digits individually'\n",
    "    except ZeroDivisionError:\n",
    "             return 'given number is NOT divisable by its digits individually'\n",
    "x = input('Enter any number: ')\n",
    "print(fun(x))"
   ]
  },
  {
   "cell_type": "markdown",
   "id": "4be9af2a",
   "metadata": {},
   "source": [
    "##### 18. Python program to convert float decimal to Octal number"
   ]
  },
  {
   "cell_type": "code",
   "execution_count": null,
   "id": "7c170e03",
   "metadata": {},
   "outputs": [],
   "source": [
    "def octal(num,place):\n",
    "    integer,fraction=str(num).split(\".\")\n",
    "    left=oct(int(integer)).lstrip('0o')\n",
    "    right=[]\n",
    "    for i in range(place):\n",
    "        fraction=\".\"+fraction\n",
    "        carry,fraction=str(float(fraction)*8).split(\".\")\n",
    "        right.append(carry)\n",
    "    print(f\"Octal repesentation of {num} upto {place} is {left}.{''.join(right)}\")\n",
    "\n",
    "flt=float(input('Enter the decimal number :'))\n",
    "pl=int(input(\"Enter the number of decimal place in octal number :\"))\n",
    "octal(flt,pl)"
   ]
  },
  {
   "cell_type": "markdown",
   "id": "140358b2",
   "metadata": {},
   "source": [
    "##### 19. Python program to copy odd lines of one file to other"
   ]
  },
  {
   "cell_type": "code",
   "execution_count": null,
   "id": "44d80638",
   "metadata": {},
   "outputs": [],
   "source": [
    "file = open(\"text.txt\",'w')\n",
    "text = '''Data science is an interdisciplinary field that uses scientific methods, processes, \n",
    "algorithms and systems to extract knowledge and insights from noisy, \n",
    "structured and unstructured data, and apply knowledge and actionable insights from \n",
    "data across a broad range of application domains.'''\n",
    "\n",
    "file.write(text)\n",
    "file.close()\n"
   ]
  },
  {
   "cell_type": "code",
   "execution_count": null,
   "id": "cd349c43",
   "metadata": {},
   "outputs": [],
   "source": [
    "with open(\"text.txt\",\"r\") as file:\n",
    "    text = file.readlines()\n",
    "    print(text)\n",
    "    print()\n",
    "    for i in range(len(text)):\n",
    "        if i ==0:\n",
    "            pass\n",
    "        elif i%2!=0:\n",
    "            print(text[i])"
   ]
  },
  {
   "cell_type": "markdown",
   "id": "cebf9d86",
   "metadata": {},
   "source": [
    "##### 20. Write a Python program to replace whitespaces with an underscore and vice versa"
   ]
  },
  {
   "cell_type": "code",
   "execution_count": null,
   "id": "f1ae1a4f",
   "metadata": {},
   "outputs": [],
   "source": [
    "text =\"Maharashtra is the second-most populous state in India and the second-most populous country subdivision globally.\"\n",
    "replace_ws = text.replace(\" \",\"_\")\n",
    "print(replace_ws)\n",
    "replace_us = replace_ws.replace(\"_\",\" \")\n",
    "print(replace_us)"
   ]
  },
  {
   "cell_type": "markdown",
   "id": "71b25f90",
   "metadata": {},
   "source": [
    "##### 21. Write a Python program to convert a date or yyyy-mm-dd format to dd-mm-yyyy"
   ]
  },
  {
   "cell_type": "code",
   "execution_count": null,
   "id": "5a06e680",
   "metadata": {},
   "outputs": [],
   "source": [
    "def convert_date(date):\n",
    "    date[0], date[1], date[2] = date[2], date[1], date[0]\n",
    "    return '-'.join(date)\n",
    "date = input('Enter date in yyyy mm dd format(seperated by space): ').split()\n",
    "print(convert_date(date))"
   ]
  },
  {
   "cell_type": "markdown",
   "id": "e44a7ecd",
   "metadata": {},
   "source": [
    "##### 22. Write a Python program to find all words starting with 'a' or 'e' in a given string."
   ]
  },
  {
   "cell_type": "code",
   "execution_count": null,
   "id": "75b37c41",
   "metadata": {},
   "outputs": [],
   "source": [
    "def words(s):\n",
    "    x = s.split()\n",
    "    list1 = []\n",
    "    for word in x:\n",
    "        if word.startswith('a', 0) or word.startswith('e', 0):\n",
    "            if word not in list1:\n",
    "                list1.append(word)\n",
    "    return list1\n",
    "s = input('Enter any string: ')\n",
    "print('Words sarting with \"a\" or \"e\" are', words(s))"
   ]
  },
  {
   "cell_type": "markdown",
   "id": "dba0ab49",
   "metadata": {},
   "source": [
    "##### 23. Write a Python program to abbreviate 'Road' as 'Rd.' in a given string"
   ]
  },
  {
   "cell_type": "code",
   "execution_count": null,
   "id": "e289cb15",
   "metadata": {},
   "outputs": [],
   "source": [
    "def words(s):\n",
    "    for word in s.split():\n",
    "        if word == 'Road':\n",
    "            x = s.replace(word, 'Rd.')\n",
    "        elif word == 'road':\n",
    "            x = s.replace(word, 'Rd.')\n",
    "    return x\n",
    "\n",
    "s = input('Enter any string: ')\n",
    "print('abbreviated string is', words(s))"
   ]
  },
  {
   "cell_type": "code",
   "execution_count": null,
   "id": "965e0e0e",
   "metadata": {},
   "outputs": [],
   "source": []
  }
 ],
 "metadata": {
  "kernelspec": {
   "display_name": "Python 3 (ipykernel)",
   "language": "python",
   "name": "python3"
  },
  "language_info": {
   "codemirror_mode": {
    "name": "ipython",
    "version": 3
   },
   "file_extension": ".py",
   "mimetype": "text/x-python",
   "name": "python",
   "nbconvert_exporter": "python",
   "pygments_lexer": "ipython3",
   "version": "3.9.7"
  }
 },
 "nbformat": 4,
 "nbformat_minor": 5
}
