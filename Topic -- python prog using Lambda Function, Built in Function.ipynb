{
 "cells": [
  {
   "cell_type": "markdown",
   "id": "90444151",
   "metadata": {},
   "source": [
    "# Python Programming Questions(Lambda Function, Built in Function)"
   ]
  },
  {
   "cell_type": "markdown",
   "id": "2d2f3b82",
   "metadata": {},
   "source": [
    "##### 1. Write a Python program to sort a list of tuples using Lambda."
   ]
  },
  {
   "cell_type": "code",
   "execution_count": 2,
   "id": "dc98d333",
   "metadata": {},
   "outputs": [
    {
     "name": "stdout",
     "output_type": "stream",
     "text": [
      "sorted list of tuple is:[('snehal', 11), ('sakshi', 12), ('shalu', 20), ('mayuri', 29)]\n"
     ]
    }
   ],
   "source": [
    "list1 =[('snehal',11),('shalu',20),('sakshi',12),('mayuri',29)]\n",
    "\n",
    "list1.sort(key=lambda k : k[1])\n",
    "print(f\"sorted list of tuple is:{list1}\")"
   ]
  },
  {
   "cell_type": "markdown",
   "id": "90e3373d",
   "metadata": {},
   "source": [
    "##### 2. Write a Python program to sort a list of dictionaries using Lambda"
   ]
  },
  {
   "cell_type": "code",
   "execution_count": 7,
   "id": "70ac77e0",
   "metadata": {
    "scrolled": false
   },
   "outputs": [
    {
     "name": "stdout",
     "output_type": "stream",
     "text": [
      "sorted list of dictionaries is:[{'name': 'mayuri', 'age': 22}, {'name': 'sakshi', 'age': 23}, {'name': 'snehal', 'age': 26}, {'name': 'shalu', 'age': 45}]\n"
     ]
    }
   ],
   "source": [
    "list1 =[{'name':'snehal','age':26},{'name':'shalu','age':45},{'name':'sakshi','age':23},{'name':'mayuri','age':22}]\n",
    "\n",
    "print(f\"sorted list of dictionaries is:{sorted(list1,key=lambda k : k['age'])}\")\n",
    "     "
   ]
  },
  {
   "cell_type": "markdown",
   "id": "44d6611e",
   "metadata": {},
   "source": [
    "##### 3. Write a Python program to find square and cube every number in a given list of integers using Lambda"
   ]
  },
  {
   "cell_type": "code",
   "execution_count": 8,
   "id": "c549d0f0",
   "metadata": {},
   "outputs": [
    {
     "name": "stdout",
     "output_type": "stream",
     "text": [
      "square of elements are:[16, 4, 9, 49, 25, 64, 81, 36]\n",
      "cube of elements are :[64, 8, 27, 343, 125, 512, 729, 216]\n"
     ]
    }
   ],
   "source": [
    "l1 = [4,2,3,7,5,8,9,6]\n",
    "square = list(map(lambda x:x**2,l1))\n",
    "cube= list(map(lambda x:x**3,l1))\n",
    "print(f\"square of elements are:{square}\")\n",
    "print(f\"cube of elements are :{cube}\")"
   ]
  },
  {
   "cell_type": "markdown",
   "id": "24919b75",
   "metadata": {},
   "source": [
    "##### 4. Write a Python program to find if a given string starts with a given character using Lambda"
   ]
  },
  {
   "cell_type": "code",
   "execution_count": 3,
   "id": "f9c1d769",
   "metadata": {},
   "outputs": [
    {
     "name": "stdout",
     "output_type": "stream",
     "text": [
      "enter the string:welcome to nagpur\n",
      "enter the character:w\n",
      "is 'welcome to nagpur' starts with 'w': True\n"
     ]
    }
   ],
   "source": [
    "s = input(\"enter the string:\")\n",
    "c = input(\"enter the character:\")\n",
    "f = lambda string,char: True if string.startswith(char) else false\n",
    "print(f\"is '{s}' starts with '{c}': {f(s,c)}\")"
   ]
  },
  {
   "cell_type": "markdown",
   "id": "127fa99b",
   "metadata": {},
   "source": [
    "##### 5. Write a Python program to check whether a given string is number or not using Lambda"
   ]
  },
  {
   "cell_type": "code",
   "execution_count": 11,
   "id": "f652a02f",
   "metadata": {},
   "outputs": [
    {
     "name": "stdout",
     "output_type": "stream",
     "text": [
      "enter the string: 67755\n",
      "Is '67755'contains numbers only : True\n"
     ]
    }
   ],
   "source": [
    "str1 = input(\"enter the string: \")\n",
    "f = lambda string:True if string.isnumeric() else False\n",
    "print(f\"Is '{str1}'contains numbers only : {f(str1)}\")"
   ]
  },
  {
   "cell_type": "markdown",
   "id": "98ebfb67",
   "metadata": {},
   "source": [
    "###### 6. Write a Python program to create Fibonacci series using Lambda"
   ]
  },
  {
   "cell_type": "code",
   "execution_count": 13,
   "id": "e26bead9",
   "metadata": {},
   "outputs": [
    {
     "name": "stdout",
     "output_type": "stream",
     "text": [
      "[0, 1, 1, 2, 3, 5, 8, 13, 21, 34, 55, 89, 144, 233, 377]\n"
     ]
    }
   ],
   "source": [
    "#The Fibonacci sequence is a set of numbers that starts with a one or a zero, followed by a one\n",
    "#and proceeds based on the rule that each number (called a Fibonacci number)\n",
    "#is equal to the sum of the preceding two numbers.\n",
    "\n",
    "def fibo(x):\n",
    "    list1=[0,1]\n",
    "    list(map(lambda a: list1.append(sum(list1[-2:])), range(2,x)))\n",
    "    return list1[:x]\n",
    "print(fibo(15))"
   ]
  },
  {
   "cell_type": "markdown",
   "id": "2a0471a9",
   "metadata": {},
   "source": [
    "#### 7. Write a Python program to find the intersection of two given arrays using Lambda"
   ]
  },
  {
   "cell_type": "code",
   "execution_count": 21,
   "id": "2fecd17c",
   "metadata": {},
   "outputs": [
    {
     "data": {
      "text/plain": [
       "[7, 2]"
      ]
     },
     "execution_count": 21,
     "metadata": {},
     "output_type": "execute_result"
    }
   ],
   "source": [
    "\n",
    "l1 = [2,4,5,6,7,9,]\n",
    "l2 = [7,2,33,55,23]\n",
    "\n",
    "l3=list(filter(lambda x: x in l1,l2))\n",
    "l3"
   ]
  },
  {
   "cell_type": "markdown",
   "id": "5879a38a",
   "metadata": {},
   "source": [
    "##### 8. Write a Python program to rearrange positive and negative numbers in a given array using Lambda"
   ]
  },
  {
   "cell_type": "code",
   "execution_count": 23,
   "id": "d674d1f0",
   "metadata": {},
   "outputs": [
    {
     "data": {
      "text/plain": [
       "[-14, -10, -7, -5, -2, 3, 4, 9, 23]"
      ]
     },
     "execution_count": 23,
     "metadata": {},
     "output_type": "execute_result"
    }
   ],
   "source": [
    "s =[-2,-5,3,9,4,-7,-10,-14,23]\n",
    "f = lambda l:sorted(l)\n",
    "f(s)"
   ]
  },
  {
   "cell_type": "code",
   "execution_count": 3,
   "id": "cb5e69bf",
   "metadata": {},
   "outputs": [
    {
     "name": "stdout",
     "output_type": "stream",
     "text": [
      "negative numbers are: [-2, -9, -1]\n",
      "positive numbers are: [3, 9, 1, 10]\n"
     ]
    }
   ],
   "source": [
    "list1 =[-2,-9,-1,3,9,1,10,]\n",
    "negative_numbers = list(filter(lambda x:x<0,list1))\n",
    "print('negative numbers are:',negative_numbers)\n",
    "positive_numbers = list(filter(lambda x: x>0, list1))\n",
    "print('positive numbers are:', positive_numbers)"
   ]
  },
  {
   "cell_type": "markdown",
   "id": "78721e67",
   "metadata": {},
   "source": [
    "##### 8. Write a Python program to rearrange positive and negative numbers in a given array using Lambda"
   ]
  },
  {
   "cell_type": "code",
   "execution_count": 4,
   "id": "51719489",
   "metadata": {},
   "outputs": [
    {
     "data": {
      "text/plain": [
       "[-8, -5, -3, -3, 1, 6, 7, 9]"
      ]
     },
     "execution_count": 4,
     "metadata": {},
     "output_type": "execute_result"
    }
   ],
   "source": [
    "a = [-5,-3,-3,6,7,-8,9,1]\n",
    "f = lambda l:sorted(l)\n",
    "f(a)"
   ]
  },
  {
   "cell_type": "markdown",
   "id": "51a7ed65",
   "metadata": {},
   "source": [
    "##### 9. Write a Python program to count the even, odd numbers in a given array of integers using Lambda"
   ]
  },
  {
   "cell_type": "code",
   "execution_count": 7,
   "id": "1a136bf7",
   "metadata": {},
   "outputs": [
    {
     "name": "stdout",
     "output_type": "stream",
     "text": [
      "even count is 7\n",
      "odd count is 6\n"
     ]
    }
   ],
   "source": [
    "a = [3,2,4,5,7,8,9,34,24,21,11,10,56]\n",
    "e = list(filter(lambda i : i%2==0,a))\n",
    "o = list(filter(lambda i : i%2 !=0,a))\n",
    "print(f'even count is {len(e)}\\nodd count is {len(o)}')"
   ]
  },
  {
   "cell_type": "markdown",
   "id": "8bab8906",
   "metadata": {},
   "source": [
    "##### 10. Write a Python program to add two given lists using map and lambda"
   ]
  },
  {
   "cell_type": "code",
   "execution_count": null,
   "id": "03e70f4e",
   "metadata": {},
   "outputs": [],
   "source": [
    "a =[5,2,4,2,8,7,6,9,11,23]\n",
    "b =[4,2,6,9,3,12,11,56,43,10]\n",
    "s = list(map(lambda l1,l2: sum(a,b)))"
   ]
  }
 ],
 "metadata": {
  "kernelspec": {
   "display_name": "Python 3 (ipykernel)",
   "language": "python",
   "name": "python3"
  },
  "language_info": {
   "codemirror_mode": {
    "name": "ipython",
    "version": 3
   },
   "file_extension": ".py",
   "mimetype": "text/x-python",
   "name": "python",
   "nbconvert_exporter": "python",
   "pygments_lexer": "ipython3",
   "version": "3.9.7"
  }
 },
 "nbformat": 4,
 "nbformat_minor": 5
}
