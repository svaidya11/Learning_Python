{
 "cells": [
  {
   "cell_type": "markdown",
   "id": "ae5ca100",
   "metadata": {},
   "source": [
    "##### 1. What is a List?"
   ]
  },
  {
   "cell_type": "code",
   "execution_count": null,
   "id": "82c8aaa8",
   "metadata": {},
   "outputs": [],
   "source": [
    "#Lists are used to store multiple items in a single variable.\n",
    "Lists are one of 4 built-in data types in Python used to store collections of data.\n",
    "1. It is collection of items\n",
    "2. Ordered- When we say that lists are ordered, it means that the items have a defined order,\n",
    "            and that order will not change.\n",
    "3. Mutable (Changable)- The list is changeable, meaning that we can change, add, and remove \n",
    "                        items in a list after it has been created.\n",
    "4. Enclosed by square bracket >> []\n",
    "5. Used to store sequence of various data types (int, float,\n",
    "                                            str,list,tuple,dict,dataframe,boolean)\n",
    "6. Most useful data type in python\n",
    "7. Lists are comma seperated\n",
    "8. Duplicates are allowed\n",
    "9. Lists are allocated in two blocks: the fixed one with all the Python object information \n",
    "    and a variable sized block for the data.thats why list is slower than tuple.\n",
    "# Example of List is: mylist = [\"Apple\",\"Mango\",\"Banana\",\"cherry\"]"
   ]
  },
  {
   "cell_type": "markdown",
   "id": "ee8b7f74",
   "metadata": {},
   "source": [
    "##### 2. What is a Tuple?"
   ]
  },
  {
   "cell_type": "code",
   "execution_count": null,
   "id": "0d1ab97a",
   "metadata": {},
   "outputs": [],
   "source": [
    "#Tuples are used to store multiple items in a single variable.\n",
    "\n",
    "1. Tuple is used to store the sequence\n",
    "2. Tuple is immutable\n",
    "3. The value of item stored in tuple can not be changed/modified\n",
    "4. Ordered, allow duplicates items\n",
    "5. Round brackets ()  to define the tuple\n",
    "6. Heterogeneous datatype (int,float,str,list,tuple,dict,Boolean)\n",
    "7. Tuple is fatser than the list (Tuples are stored in a single block of memory. \n",
    "                    Tuples are immutable so, It doesn't require extra space to store new objects.)\n",
    "8. Comma seperated\n",
    "9. Can not perform operations like (add,update,delete)\n",
    "\n",
    "Example of tuple is: mytup =(\"pen\",\"pencil\",\"eraser\",\"book\")"
   ]
  },
  {
   "cell_type": "markdown",
   "id": "424524c3",
   "metadata": {},
   "source": [
    "##### What is the difference between List and Tuple?"
   ]
  },
  {
   "cell_type": "code",
   "execution_count": null,
   "id": "34180fa8",
   "metadata": {},
   "outputs": [],
   "source": [
    "            List                                             Tuples\n",
    "1 List is mutable                                 1) Tuples are immutable\n",
    "2 List iteration is slower and time-consuming.    2) Tuples iteration is faster.\n",
    "3 List is performed well in insertion and         3) Tuples are performed well in accessing \n",
    "  deletion operations.                               elements operations.                           \n",
    "4 List takes more memory                          4) Tuples take less memory.\n",
    "5 Lists are many built-in methods                 5) Tuples are less in-built methods.\n",
    "6 In List Error is more likely to happen.         6) In Tuples Error hardly takes place.\n",
    "7 Lists can be used to store homogeneous and \n",
    "  heterogeneous elements.                         7) Tuples are used to store only heterogeneous elements.\n",
    "8 List are enclosed by square brackets[].         8) Tuple are enclosed by Rounded Brackets ()."
   ]
  },
  {
   "cell_type": "markdown",
   "id": "ebfdba58",
   "metadata": {},
   "source": [
    "##### 4. Python Program to find the largest element in the list"
   ]
  },
  {
   "cell_type": "code",
   "execution_count": 2,
   "id": "88405b64",
   "metadata": {},
   "outputs": [
    {
     "name": "stdout",
     "output_type": "stream",
     "text": [
      "largest number in the list is: 97\n"
     ]
    }
   ],
   "source": [
    "a = [30,22,45,13,67,97]\n",
    "max(a)\n",
    "print(f'largest number in the list is: {max(a)}')"
   ]
  },
  {
   "cell_type": "markdown",
   "id": "5e930906",
   "metadata": {},
   "source": [
    "##### 5. Python program to interchange first and last elements in a list."
   ]
  },
  {
   "cell_type": "code",
   "execution_count": 11,
   "id": "ec9ea7e8",
   "metadata": {},
   "outputs": [
    {
     "name": "stdout",
     "output_type": "stream",
     "text": [
      "Original list is [3, 5, 4, 78, 5, 4, 99]\n",
      "List after swapping is [99, 5, 4, 78, 5, 4, 3]\n"
     ]
    }
   ],
   "source": [
    "l=[3,5,4,78,5,4,99]\n",
    "print(f\"Original list is {(l)}\")\n",
    "l[0],l[-1]=l[-1],l[0]\n",
    "print(f\"List after swapping is {(l)}\")"
   ]
  },
  {
   "cell_type": "markdown",
   "id": "b6eed266",
   "metadata": {},
   "source": [
    "##### 6. Python program to swap two elements in a list"
   ]
  },
  {
   "cell_type": "code",
   "execution_count": 2,
   "id": "17bc0400",
   "metadata": {},
   "outputs": [
    {
     "name": "stdout",
     "output_type": "stream",
     "text": [
      "enter the position of first element you want to swap1\n",
      "enter the position of second elemnet you want to swap with:4\n",
      "original list is 1\n",
      "list after swapping is [2, 86, 56.23, 78, 40]\n"
     ]
    }
   ],
   "source": [
    "l =[2,40,56.23,78,86]\n",
    "list1 =int(input(\"enter the position of first element you want to swap\"))\n",
    "list2 =int(input(\"enter the position of second elemnet you want to swap with:\"))\n",
    "print(f'original list is {(list1)}')\n",
    "l[list1],l[list2]=l[list2],l[list1]\n",
    "print(f'list after swapping is {(l)}')\n"
   ]
  },
  {
   "cell_type": "markdown",
   "id": "158bc9df",
   "metadata": {},
   "source": [
    "##### 7. Python program to Reverse a List"
   ]
  },
  {
   "cell_type": "code",
   "execution_count": 14,
   "id": "44e43b44",
   "metadata": {},
   "outputs": [
    {
     "name": "stdout",
     "output_type": "stream",
     "text": [
      "original list is [4, 5, 7, 31, 46, 19]\n",
      "reversed list is [19, 46, 31, 7, 5, 4]\n"
     ]
    }
   ],
   "source": [
    "l =[4,5,7,31,46,19]\n",
    "print(f'original list is {(l)}')\n",
    "l.reverse()\n",
    "print(f'reversed list is {(l)}')"
   ]
  },
  {
   "cell_type": "markdown",
   "id": "af0ad4f1",
   "metadata": {},
   "source": [
    "##### 8. Python program to count occurrences of an element in a list"
   ]
  },
  {
   "cell_type": "code",
   "execution_count": 17,
   "id": "43397a27",
   "metadata": {},
   "outputs": [
    {
     "name": "stdout",
     "output_type": "stream",
     "text": [
      "occurance of 6 is 2 times\n"
     ]
    }
   ],
   "source": [
    "l =[2,6,8,4,6,43,32]\n",
    "n =6\n",
    "print(f'occurance of {n} is {l.count(n)} times')"
   ]
  },
  {
   "cell_type": "markdown",
   "id": "fe4faafd",
   "metadata": {},
   "source": [
    "##### 9. Python program to find the sum of elements in a list"
   ]
  },
  {
   "cell_type": "code",
   "execution_count": 33,
   "id": "fdd015e0",
   "metadata": {},
   "outputs": [
    {
     "name": "stdout",
     "output_type": "stream",
     "text": [
      "Sum of elements of list [1, 3, 9, 87, 54, 80] is 234\n"
     ]
    }
   ],
   "source": [
    "l2=[1,3,9,87,54,80]\n",
    "sum=0\n",
    "for i in l2:\n",
    "    sum=sum+i\n",
    "print(f\"Sum of elements of list {l2} is {sum}\")"
   ]
  },
  {
   "cell_type": "markdown",
   "id": "dd6a81d8",
   "metadata": {},
   "source": [
    "##### 10. Python program to Multiply all numbers in the list"
   ]
  },
  {
   "cell_type": "code",
   "execution_count": 37,
   "id": "9d46e465",
   "metadata": {},
   "outputs": [
    {
     "name": "stdout",
     "output_type": "stream",
     "text": [
      "mult of element of list[3, 2, 34, 56, 21] is 239904\n"
     ]
    }
   ],
   "source": [
    "l3 =[3,2,34,56,21]\n",
    "mul=1\n",
    "for i in l3:\n",
    "    mul=mul*i\n",
    "print(f\"mult of element of list{l3} is {mul}\")    "
   ]
  },
  {
   "cell_type": "markdown",
   "id": "ff984f0d",
   "metadata": {},
   "source": [
    "##### 11. What are the ways to find the length of a list"
   ]
  },
  {
   "cell_type": "code",
   "execution_count": 4,
   "id": "125831e0",
   "metadata": {},
   "outputs": [
    {
     "name": "stdout",
     "output_type": "stream",
     "text": [
      "8\n",
      "8\n"
     ]
    }
   ],
   "source": [
    "list5 = [12,34,98,13,67,45,22,72]\n",
    "#> using 'len' function\n",
    "print(len(list5))\n",
    "#> using for loop\n",
    "length = 0\n",
    "for i in list5:\n",
    "    length = length+1\n",
    "print(length)"
   ]
  },
  {
   "cell_type": "markdown",
   "id": "59e602ad",
   "metadata": {},
   "source": [
    "##### 12. Python program to find the smallest and largest number in a list (Without min-max function)"
   ]
  },
  {
   "cell_type": "code",
   "execution_count": 19,
   "id": "145dece0",
   "metadata": {},
   "outputs": [
    {
     "name": "stdout",
     "output_type": "stream",
     "text": [
      "minimum number in the list is: 1\n",
      "maximum number in the list is: 89\n"
     ]
    }
   ],
   "source": [
    "list6 = [2,43,23,32,1,89]\n",
    "min_l = l[0]\n",
    "max_l = l[0]\n",
    "for i in list6:\n",
    "    if i<= min_l:\n",
    "        min_l = i\n",
    "    elif i> max_l:\n",
    "        max_l = i\n",
    "print('minimum number in the list is:',min_l)\n",
    "print('maximum number in the list is:',max_l)"
   ]
  },
  {
   "cell_type": "markdown",
   "id": "3e9b1a5c",
   "metadata": {},
   "source": [
    "##### 13. Python Program to find the area of a circle"
   ]
  },
  {
   "cell_type": "code",
   "execution_count": 20,
   "id": "86d18e7f",
   "metadata": {},
   "outputs": [
    {
     "name": "stdout",
     "output_type": "stream",
     "text": [
      "enter the radious of circle23\n",
      "the area of circle is: 1661.0600000000002\n"
     ]
    }
   ],
   "source": [
    "r = int(input('enter the radious of circle'))\n",
    "area = 3.14 * (r**2)\n",
    "print('the area of circle is:', area)"
   ]
  },
  {
   "cell_type": "markdown",
   "id": "b52e574e",
   "metadata": {},
   "source": [
    "##### 14. Take inputs from the user to make a list. Again take one input from the user and search it in the list and delete that element, if found. Iterate over a list using for loop."
   ]
  },
  {
   "cell_type": "code",
   "execution_count": null,
   "id": "63741c8c",
   "metadata": {},
   "outputs": [],
   "source": [
    "l1 = input(\"enter the number as per your wish\")\n",
    "a = input('Enter 10 numbers seperated by space: ')\n",
    "l = list(a.split())\n",
    "print(l)\n",
    "b = input('Enter the number you want to delete: ')\n",
    "for i in l:\n",
    "if i == b:\n",
    "n = l.index(b)\n",
    "l.pop(n)\n",
    "print(l)"
   ]
  },
  {
   "cell_type": "markdown",
   "id": "d95569e7",
   "metadata": {},
   "source": [
    "###### 15. You are given a list of integer elements. Make a new list that will store a square of elements of the previous list. (With and without list comprehension)\n",
    "i. Input_list = [2,5,6,12]\n",
    "ii. Output_list = [4,25,36,144]"
   ]
  },
  {
   "cell_type": "code",
   "execution_count": 5,
   "id": "a3f374d3",
   "metadata": {},
   "outputs": [
    {
     "name": "stdout",
     "output_type": "stream",
     "text": [
      "[4, 25, 36, 144]\n"
     ]
    }
   ],
   "source": [
    "#without list comprhension\n",
    "num1= [2,5,6,12]\n",
    "num2 = []\n",
    "for i in num1:\n",
    "    x=i**2\n",
    "    num2.append(x)\n",
    "print(num2)"
   ]
  },
  {
   "cell_type": "markdown",
   "id": "997eb7b2",
   "metadata": {},
   "source": [
    "##### 16. WAP to create two lists, one containing all even numbers and the othe containing all odd numbers between 0 to 151."
   ]
  },
  {
   "cell_type": "code",
   "execution_count": 13,
   "id": "120bff6f",
   "metadata": {},
   "outputs": [
    {
     "name": "stdout",
     "output_type": "stream",
     "text": [
      "Even Numbers:  [0, 2, 4, 6, 8, 10, 12, 14, 16, 18, 20, 22, 24, 26, 28, 30, 32, 34, 36, 38, 40, 42, 44, 46, 48, 50, 52, 54, 56, 58, 60, 62, 64, 66, 68, 70, 72, 74, 76, 78, 80, 82, 84, 86, 88, 90, 92, 94, 96, 98, 100, 102, 104, 106, 108, 110, 112, 114, 116, 118, 120, 122, 124, 126, 128, 130, 132, 134, 136, 138, 140, 142, 144, 146, 148, 150]\n",
      "Odd Numbers:  [150]\n"
     ]
    }
   ],
   "source": [
    "even_num = []\n",
    "odd_num = []\n",
    "for i in range(0,151):\n",
    "    if i%2==0:\n",
    "        even_num.append(i)\n",
    "else:\n",
    "    odd_num.append(i)\n",
    "print('Even Numbers: ', even_num)\n",
    "print('Odd Numbers: ',odd_num)"
   ]
  },
  {
   "cell_type": "markdown",
   "id": "2c8eb5b7",
   "metadata": {},
   "source": [
    "##### 17. Python program to Count Even and Odd numbers in a List."
   ]
  },
  {
   "cell_type": "code",
   "execution_count": 15,
   "id": "2063eb3d",
   "metadata": {},
   "outputs": [
    {
     "name": "stdout",
     "output_type": "stream",
     "text": [
      "count of even Numbers:  3\n",
      "count of odd Numbers:  1\n"
     ]
    }
   ],
   "source": [
    "list2 = [2,5,4,7,9,3,6]\n",
    "count_enum = 0\n",
    "count_onum = 0\n",
    "for i in list2:\n",
    "    if i%2==0:\n",
    "        count_enum+=1\n",
    "else:\n",
    "    count_onum+=1\n",
    "print('count of even Numbers: ',count_enum)\n",
    "print('count of odd Numbers: ',count_onum)"
   ]
  },
  {
   "cell_type": "markdown",
   "id": "65df3f10",
   "metadata": {},
   "source": [
    "##### 18. WAP to make new lists, containing only numbers which are divisible by 4, 6, 8, 10, 3, 5, 7, and 9 in separate lists for range(0,151)"
   ]
  },
  {
   "cell_type": "code",
   "execution_count": 21,
   "id": "0a37daa4",
   "metadata": {},
   "outputs": [
    {
     "name": "stdout",
     "output_type": "stream",
     "text": [
      "[0, 4, 8, 12, 16, 20, 24, 28, 32, 36, 40, 44, 48, 52, 56, 60, 64, 68, 72, 76, 80, 84, 88, 92, 96, 100, 104, 108, 112, 116, 120, 124, 128, 132, 136, 140, 144, 148]\n",
      "[0, 6, 12, 18, 24, 30, 36, 42, 48, 54, 60, 66, 72, 78, 84, 90, 96, 102, 108, 114, 120, 126, 132, 138, 144, 150]\n",
      "[0, 8, 16, 24, 32, 40, 48, 56, 64, 72, 80, 88, 96, 104, 112, 120, 128, 136, 144]\n",
      "[0, 10, 20, 30, 40, 50, 60, 70, 80, 90, 100, 110, 120, 130, 140, 150]\n",
      "[0, 3, 6, 9, 12, 15, 18, 21, 24, 27, 30, 33, 36, 39, 42, 45, 48, 51, 54, 57, 60, 63, 66, 69, 72, 75, 78, 81, 84, 87, 90, 93, 96, 99, 102, 105, 108, 111, 114, 117, 120, 123, 126, 129, 132, 135, 138, 141, 144, 147, 150]\n",
      "[0, 5, 10, 15, 20, 25, 30, 35, 40, 45, 50, 55, 60, 65, 70, 75, 80, 85, 90, 95, 100, 105, 110, 115, 120, 125, 130, 135, 140, 145, 150]\n",
      "[0, 7, 14, 21, 28, 35, 42, 49, 56, 63, 70, 77, 84, 91, 98, 105, 112, 119, 126, 133, 140, 147]\n",
      "[0, 9, 18, 27, 36, 45, 54, 63, 72, 81, 90, 99, 108, 117, 126, 135, 144]\n"
     ]
    }
   ],
   "source": [
    "l1 = [i for i in range(151) if i%4==0]\n",
    "l2 = [i for i in range(151) if i%6==0]\n",
    "l3 = [i for i in range(151) if i%8==0]\n",
    "l4 = [i for i in range(151) if i%10==0]\n",
    "l5 = [i for i in range(151) if i%3==0]\n",
    "l6 = [i for i in range(151) if i%5==0]\n",
    "l7 = [i for i in range(151) if i%7==0]\n",
    "l8 = [i for i in range(151) if i%9==0]\n",
    "print(l1)\n",
    "print(l2)\n",
    "print(l3)\n",
    "print(l4)\n",
    "print(l5)\n",
    "print(l6)\n",
    "print(l7)\n",
    "print(l8)"
   ]
  },
  {
   "cell_type": "markdown",
   "id": "a18467f6",
   "metadata": {},
   "source": [
    "##### 19. From a list containing ints, strings, and floats, make three lists to store them separately."
   ]
  },
  {
   "cell_type": "code",
   "execution_count": 27,
   "id": "ca86140f",
   "metadata": {},
   "outputs": [
    {
     "name": "stdout",
     "output_type": "stream",
     "text": [
      "['Snehal', 'Mayuri', 'prachi', 'shalu']\n",
      "[64.88, 61.38]\n",
      "[11, 55, 77, 44]\n"
     ]
    }
   ],
   "source": [
    "l1 = []\n",
    "l2 = []\n",
    "l3 = []\n",
    "list = [11,64.88,'Snehal',61.38, 77,'Mayuri',44, 89.5,'prachi',9,'shalu']\n",
    "l1= [i for i in list if type(i)==str]\n",
    "print(l1)\n",
    "l2 = [i for i in l if type(i)==float]\n",
    "print(l2)\n",
    "l3 = [i for i in l if type(i)==int]\n",
    "print(l3)"
   ]
  },
  {
   "cell_type": "markdown",
   "id": "2cc0561e",
   "metadata": {},
   "source": [
    "##### 20. What’s The Difference Between The Python append() and extend() Methods?"
   ]
  },
  {
   "cell_type": "code",
   "execution_count": null,
   "id": "a3a0ef26",
   "metadata": {},
   "outputs": [],
   "source": [
    "Python append() method adds an element to a list, and the extend() method concatenates the first list with another list (or another iterable).\n",
    "When append() method adds its argument as a single element to the end of a list, the length of the list itself will\n",
    "increase by one. Whereas extend() method iterates over its argument adding each element to the list, extending\n",
    "the list. The length of the list will increase by however many elements were in the iterable argument."
   ]
  },
  {
   "cell_type": "markdown",
   "id": "9558a1e5",
   "metadata": {},
   "source": [
    "##### 21. Write a Python program to append a list to the second list"
   ]
  },
  {
   "cell_type": "code",
   "execution_count": 31,
   "id": "0747e918",
   "metadata": {},
   "outputs": [
    {
     "name": "stdout",
     "output_type": "stream",
     "text": [
      "[23, 12, 78, 'snehal', [98, 30, 6.8, 'vaidya']]\n"
     ]
    }
   ],
   "source": [
    "a = [23,12,78,'snehal']\n",
    "b = [98,30,6.8,'vaidya']\n",
    "a.append(b)\n",
    "print(a)"
   ]
  },
  {
   "cell_type": "markdown",
   "id": "e6547ff3",
   "metadata": {},
   "source": [
    "##### 22. Write a Python program to find the third-largest number in a list"
   ]
  },
  {
   "cell_type": "code",
   "execution_count": 33,
   "id": "0f1f8c9f",
   "metadata": {},
   "outputs": [
    {
     "name": "stdout",
     "output_type": "stream",
     "text": [
      "Third largest number is: 14\n"
     ]
    }
   ],
   "source": [
    "list3 = [8,9,12.5,11,12,13,14, 25]\n",
    "for i in range(2):\n",
    "    a = max(list3)\n",
    "    b = list3.index(a)\n",
    "list3.pop(b)\n",
    "d = max(list3)\n",
    "print('Third largest number is:', d)"
   ]
  },
  {
   "cell_type": "markdown",
   "id": "150f6258",
   "metadata": {},
   "source": [
    "##### 23. Write a Python program to get the frequency of the elements in a list."
   ]
  },
  {
   "cell_type": "code",
   "execution_count": 35,
   "id": "d098eec8",
   "metadata": {},
   "outputs": [
    {
     "name": "stdout",
     "output_type": "stream",
     "text": [
      "5 = 1\n",
      "461 = 2\n",
      "722 = 1\n",
      "145 = 2\n",
      "7563 = 1\n",
      "145 = 2\n",
      "854 = 1\n",
      "75 = 1\n",
      "461 = 2\n"
     ]
    }
   ],
   "source": [
    "list1 = [5,461,722,145,7563,145,854,75,461]\n",
    "for i in list1:\n",
    "    count = list1.count(i)\n",
    "    print(f'{i} = {count}')"
   ]
  },
  {
   "cell_type": "markdown",
   "id": "863a6f3f",
   "metadata": {},
   "source": [
    "###### 24. Write a Python program to check whether a list contains a sublist."
   ]
  },
  {
   "cell_type": "code",
   "execution_count": 39,
   "id": "81ca0b39",
   "metadata": {},
   "outputs": [
    {
     "name": "stdout",
     "output_type": "stream",
     "text": [
      "sublist is not presennt in list\n"
     ]
    }
   ],
   "source": [
    "num = [1,20,30,44,81,90,[2,8,1,3],8,9]\n",
    "for i in num:\n",
    "    if type(i) == list:\n",
    "        print('sublist is present in list')\n",
    "        break\n",
    "else:\n",
    "    print('sublist is not presennt in list')"
   ]
  },
  {
   "cell_type": "markdown",
   "id": "1fd6b6f8",
   "metadata": {},
   "source": [
    "##### 25. Write a Python program to generate all sublists of a list"
   ]
  },
  {
   "cell_type": "code",
   "execution_count": 45,
   "id": "20b03301",
   "metadata": {},
   "outputs": [
    {
     "name": "stdout",
     "output_type": "stream",
     "text": [
      "[1, 2]\n",
      "[1, 3]\n",
      "[1, 4]\n",
      "[2, 3]\n",
      "[2, 4]\n",
      "[3, 4]\n",
      "[1, 2, 3, 4]\n"
     ]
    }
   ],
   "source": [
    "l = [1,2,3,4,]\n",
    "#print(len(l))\n",
    "for i in range(len(l)):\n",
    "    for j in range(i + 1, len(l)):\n",
    "        print([l[i],l[j]])\n",
    "print(l)"
   ]
  },
  {
   "cell_type": "markdown",
   "id": "4c09b598",
   "metadata": {},
   "source": [
    "##### 26. Write a Python program to find common items from two lists"
   ]
  },
  {
   "cell_type": "code",
   "execution_count": 56,
   "id": "71ad7292",
   "metadata": {},
   "outputs": [
    {
     "name": "stdout",
     "output_type": "stream",
     "text": [
      "[2, 4, 6, 'snehal']\n"
     ]
    }
   ],
   "source": [
    "l1 = [1,2,3,4,5,6,'snehal']\n",
    "l2 = [2,4,6,7,8,9,'snehal']\n",
    "l3 = []\n",
    "for i in l1:\n",
    "    for j in l2:\n",
    "        if i == j:\n",
    "            l3.append(i)\n",
    "print(l3)"
   ]
  },
  {
   "cell_type": "markdown",
   "id": "1357a8f9",
   "metadata": {},
   "source": [
    "##### 27. How to flatten a list in python?"
   ]
  },
  {
   "cell_type": "code",
   "execution_count": 15,
   "id": "699360be",
   "metadata": {},
   "outputs": [
    {
     "name": "stdout",
     "output_type": "stream",
     "text": [
      "[2, 4, 5, 7, 3, 8, 6, 1]\n"
     ]
    }
   ],
   "source": [
    "data = [[2,4,5],[7,3,8],[6,1]]\n",
    "flat_list = []\n",
    "for sublist in data:\n",
    "    for element in sublist:\n",
    "        flat_list.append(element)\n",
    "print(flat_list)        \n",
    "\n"
   ]
  },
  {
   "cell_type": "markdown",
   "id": "a6018dfc",
   "metadata": {},
   "source": [
    "##### 28. How to sort a list in ascending and descending order without using the sort function?"
   ]
  },
  {
   "cell_type": "code",
   "execution_count": 21,
   "id": "30376d2f",
   "metadata": {},
   "outputs": [
    {
     "name": "stdout",
     "output_type": "stream",
     "text": [
      "9\n",
      "[4, 12, 17, 22, 23, 55, 67, 68, 93]\n"
     ]
    }
   ],
   "source": [
    "list7 =[23,4,67,22,17,68,93,55,12]\n",
    "print(len(list7))\n",
    "for i in range(len(list7)):\n",
    "    for j in range(i + 1,len(list7)):\n",
    "        if list7[i] > list7[j]:\n",
    "            list7[i],list7[j] = list7[j],list7[i]\n",
    "print(list7)            "
   ]
  },
  {
   "cell_type": "markdown",
   "id": "b0c08fef",
   "metadata": {},
   "source": [
    "##### 29. How to sort a tuple?"
   ]
  },
  {
   "cell_type": "code",
   "execution_count": 26,
   "id": "196c0f55",
   "metadata": {},
   "outputs": [
    {
     "data": {
      "text/plain": [
       "(12, 23, 56, 78, 92)"
      ]
     },
     "execution_count": 26,
     "metadata": {},
     "output_type": "execute_result"
    }
   ],
   "source": [
    "tup1=(23,56,78,12,92)\n",
    "list1 = list(tup1)\n",
    "list1.sort()\n",
    "tup1 = tuple(list1)\n",
    "tup1"
   ]
  },
  {
   "cell_type": "markdown",
   "id": "0fb453d7",
   "metadata": {},
   "source": [
    "##### 30. Write a Python program to convert a list of multiple integers into a single integer.\n",
    "integer\n",
    "a. [11, 33, 50] >>> 113350"
   ]
  },
  {
   "cell_type": "code",
   "execution_count": 30,
   "id": "c2a80ff1",
   "metadata": {},
   "outputs": [
    {
     "name": "stdout",
     "output_type": "stream",
     "text": [
      "12346723"
     ]
    }
   ],
   "source": [
    "a =[12,34,67,23]\n",
    "for i in a:\n",
    "    print(i, end=\"\")"
   ]
  },
  {
   "cell_type": "markdown",
   "id": "f4455fe4",
   "metadata": {},
   "source": [
    "##### 31. Difference between del and clear?"
   ]
  },
  {
   "cell_type": "markdown",
   "id": "4789c587",
   "metadata": {},
   "source": [
    "del() -To remove items by index or slice we can use the del method in python .\n",
    "you can also remove elements from a list with del statements.\n",
    "\n",
    "Note: It removes the specified index element.\n",
    "syntax- del list[index]  or del list\n",
    "ex- \n",
    "thislist =[96,12,'a','s','v',11,68]\n",
    "print(thislist)\n",
    "del thislist[0]\n",
    "print(thislist)\n",
    "\n",
    "clear() - clear() method in python is used to empty the entire list. this can be used if someone wants an empty list for any other purpose. \n",
    "\n",
    "syntax- list.clear()-\n",
    "thislist = [78, \"a\", 89, \"b\", \"z\" , 1, 20, 3, 4, \"m\" ]\n",
    "print('thislist before clear:', thislist)\n",
    "thislist.clear()\n",
    "print('thislist after clear:', thislist)"
   ]
  },
  {
   "cell_type": "code",
   "execution_count": 31,
   "id": "2ee9e39e",
   "metadata": {},
   "outputs": [
    {
     "name": "stdout",
     "output_type": "stream",
     "text": [
      "[96, 12, 'a', 's', 'v', 11, 68]\n",
      "[12, 'a', 's', 'v', 11, 68]\n"
     ]
    }
   ],
   "source": [
    "thislist =[96,12,'a','s','v',11,68]\n",
    "print(thislist)\n",
    "del thislist[0]\n",
    "print(thislist)"
   ]
  },
  {
   "cell_type": "markdown",
   "id": "b232ec9e",
   "metadata": {},
   "source": [
    "##### 32. Difference between remove and pop?"
   ]
  },
  {
   "cell_type": "code",
   "execution_count": null,
   "id": "a2a760a7",
   "metadata": {},
   "outputs": [],
   "source": [
    "Remove()- it removes the first occurrences of the element.\n",
    "-Python list has a function remove() to remove the elements of a given list. \n",
    "-It removes the first matching value instead of the index, and the value is passed as an argument. \n",
    "-It searches the list to find the value and deletes the first matching item it finds. \n",
    "-It raises a ValueError if there is no matching value found.\n",
    "\n",
    "ex- list1 =[1,2,3,2]\n",
    "    list1.remove(2)\n",
    "    print(list1)\n",
    "    \n",
    "pop() - Python list has a function pop() to remove the elements of a given list.\n",
    "pop method: by default, it removes and returns the last element but you can pop any \n",
    "    element by providing an index.\n",
    "    ex- list1 = [0, 2, 3, 2]\n",
    "        list1.pop(3)\n",
    "        print(list1)"
   ]
  },
  {
   "cell_type": "markdown",
   "id": "73672ef4",
   "metadata": {},
   "source": [
    "##### 33. Difference between indexing and Slicing?"
   ]
  },
  {
   "cell_type": "code",
   "execution_count": null,
   "id": "e49178af",
   "metadata": {},
   "outputs": [],
   "source": [
    "“Indexing” means referring to an element of an iterable by its position within the iterable. \n",
    "- Indexing starts from 0. Index 0 represents the first element in the sequence.\n",
    "- Negative indexing starts from -1. Index -1 represents the last element in the sequence.\n",
    "- Example\n",
    "s=\"Python\"\n",
    "print (s[0])#Output:P\n",
    "print (s[-1])#Output:n\n",
    "print (s[-2])#Output:o\n",
    "\n",
    "“Slicing” means getting a subset of elements from an iterable based on their indices.\n",
    "-slicing allows you to obtain substring\n",
    "1. s[1:3] — Returns element from the first index to the third index(excluded).\n",
    "-example\n",
    "s=”Python”\n",
    "print (s[1:3])\n",
    "#Output:"
   ]
  },
  {
   "cell_type": "markdown",
   "id": "e0feb182",
   "metadata": {},
   "source": [
    "##### 34. Difference between sort and sorted?"
   ]
  },
  {
   "cell_type": "code",
   "execution_count": null,
   "id": "584e392f",
   "metadata": {},
   "outputs": [],
   "source": [
    "sort() - sort() function will modify the list it is called on. \n",
    "- If maintaining the original order of the list is unimportant, then you can call the sort() function on the list.\n",
    "- The sort() function modifies the list in-place and has no return value.\n",
    "\n",
    "sorted()-  The sorted() function will create a new list containing a sorted version of the list it is given. \n",
    "-The sorted() function will not modify the list passed as a parameter. If you want to sort a list but still have the original unsorted version, \n",
    "then you would use the sorted() function.\n",
    "- the sorted() function will return a list so you must assign the returned data to a new variable.\n"
   ]
  },
  {
   "cell_type": "markdown",
   "id": "99e31c89",
   "metadata": {},
   "source": [
    "##### 35. Difference between reverse and reversed?"
   ]
  },
  {
   "cell_type": "code",
   "execution_count": null,
   "id": "c573dded",
   "metadata": {},
   "outputs": [],
   "source": [
    "reverse() - Python list class comes with the default reverse() function that inverts the order of items in the given list. \n",
    "It doesn’t create a new list object instead straightway modifies the original copy.\n",
    "-So we can say reverse() is an inbuilt method in Python programming language that reverses objects of the list in place.\n",
    "- Syntax of reverse() function:\n",
    "  list_name.reverse()\n",
    "\n",
    "reversed() - The reversed() function in Python allows us to process the items in a sequence in reverse order. \n",
    "It accepts a sequence and returns an iterator.\n",
    "-Syntax of reversed() in Python:\n",
    "reversed(sequence) -> reverse iterator\n",
    "ex- my_list = [1, 2, 4, 3, 5]\n",
    "print(list(reversed(my_list)))"
   ]
  },
  {
   "cell_type": "markdown",
   "id": "42eb6e71",
   "metadata": {},
   "source": [
    "##### 36. Difference between copy and deep copy?"
   ]
  },
  {
   "cell_type": "code",
   "execution_count": null,
   "id": "9fb37c3e",
   "metadata": {},
   "outputs": [],
   "source": [
    "Shallow Copy\n",
    "-A shallow copy creates a new object which stores the reference of the original elements.\n",
    "-So, a shallow copy doesnt create a copy of nested objects, instead it just copies the reference of nested objects. \n",
    "This means, a copy process does not recurse or create copies of nested objects itself.\n",
    "- In Python, shallow copy can be implemented by using copy module which has copy() method.\n",
    "- Example : Create a copy usinimport copyg shallow copy\n",
    "import copy\n",
    "\n",
    "old_list = [[1, 2, 3], [4, 5, 6], [7, 8, 9]]\n",
    "new_list = copy.copy(old_list)\n",
    "\n",
    "print(\"Old list:\", old_list)\n",
    "print(\"New list:\", new_list)\n",
    "\n",
    "Deep Copy():\n",
    "-A deep copy creates a new object and recursively adds the copies of nested objects present in the original elements.\n",
    "-in other word, A deep copy will take a copy of the original object and will then recursively take copy of the inner objects which are found (if any).\n",
    "- In deep copy, changes made to a copy of object do not reflect in the original object.\n",
    "- In Python, shallow copy can be implemented by using copy module which has deepcopy() method.\n",
    "- Example : Copying a list using deepcopy()\n",
    "    import copy\n",
    "\n",
    "old_list = [[1, 1, 1], [2, 2, 2], [3, 3, 3]]\n",
    "new_list = copy.deepcopy(old_list)\n",
    "\n",
    "print(\"Old list:\", old_list)\n",
    "print(\"New list:\", new_list)\n"
   ]
  },
  {
   "cell_type": "markdown",
   "id": "21d922e3",
   "metadata": {},
   "source": [
    "##### 37. How to check whether the list is empty or not?"
   ]
  },
  {
   "cell_type": "code",
   "execution_count": 39,
   "id": "3dc8302e",
   "metadata": {},
   "outputs": [
    {
     "name": "stdout",
     "output_type": "stream",
     "text": [
      "list is empty\n"
     ]
    }
   ],
   "source": [
    "list1 =[]\n",
    "for i in list1:\n",
    "    if i != None:\n",
    "        print(\"list is not empty\")\n",
    "        break\n",
    "else:\n",
    "    print(\"list is empty\")"
   ]
  },
  {
   "cell_type": "markdown",
   "id": "43daf0b3",
   "metadata": {},
   "source": [
    "##### 38. How to concatenate two lists?"
   ]
  },
  {
   "cell_type": "code",
   "execution_count": 43,
   "id": "05e49fdb",
   "metadata": {},
   "outputs": [
    {
     "name": "stdout",
     "output_type": "stream",
     "text": [
      "Concatenated list:\n",
      "[10, 11, 12, 13, 14, 20, 30, 42]\n"
     ]
    }
   ],
   "source": [
    "list1 = [10, 11, 12, 13, 14] \n",
    "list2 = [20, 30, 42] \n",
    " \n",
    "concat = list1 + list2 \n",
    " \n",
    "print (\"Concatenated list:\\n\" + str(concat)) \n"
   ]
  },
  {
   "cell_type": "markdown",
   "id": "509cb913",
   "metadata": {},
   "source": [
    "##### 39. How to find the occurrences of an element in the python list?"
   ]
  },
  {
   "cell_type": "code",
   "execution_count": 61,
   "id": "d7ae1584",
   "metadata": {},
   "outputs": [
    {
     "data": {
      "text/plain": [
       "2"
      ]
     },
     "execution_count": 61,
     "metadata": {},
     "output_type": "execute_result"
    }
   ],
   "source": [
    "list1 = [\"a\",\"b\",\"b\"]\n",
    "list1.count(\"a\")\n",
    "list1.count(\"b\")"
   ]
  },
  {
   "cell_type": "code",
   "execution_count": null,
   "id": "40f36a8e",
   "metadata": {},
   "outputs": [],
   "source": []
  }
 ],
 "metadata": {
  "kernelspec": {
   "display_name": "Python 3 (ipykernel)",
   "language": "python",
   "name": "python3"
  },
  "language_info": {
   "codemirror_mode": {
    "name": "ipython",
    "version": 3
   },
   "file_extension": ".py",
   "mimetype": "text/x-python",
   "name": "python",
   "nbconvert_exporter": "python",
   "pygments_lexer": "ipython3",
   "version": "3.9.7"
  }
 },
 "nbformat": 4,
 "nbformat_minor": 5
}
